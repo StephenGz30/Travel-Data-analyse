{
 "cells": [
  {
   "cell_type": "code",
   "execution_count": 2,
   "id": "a0bbd723",
   "metadata": {},
   "outputs": [],
   "source": [
    "knitr::opts_chunk$set(warning = FALSE, message = FALSE)"
   ]
  },
  {
   "cell_type": "code",
   "execution_count": 3,
   "id": "1969a967",
   "metadata": {},
   "outputs": [
    {
     "name": "stderr",
     "output_type": "stream",
     "text": [
      "Installing packages into 'C:/Users/Elvis/AppData/Local/R/win-library/4.3'\n",
      "(as 'lib' is unspecified)\n",
      "\n",
      "Warning message:\n",
      "\"dependencies 'graph', 'Rgraphviz' are not available\"\n",
      "also installing the dependency 'lavaan'\n",
      "\n",
      "\n",
      "Warning message in download.file(url, destfile, method, mode = \"wb\", ...):\n",
      "\"downloaded length 0 != reported length 0\"\n",
      "Warning message in download.file(url, destfile, method, mode = \"wb\", ...):\n",
      "\"URL 'https://cran.r-project.org/bin/windows/contrib/4.3/lavaan_0.6-17.zip': Timeout of 60 seconds was reached\"\n"
     ]
    },
    {
     "name": "stdout",
     "output_type": "stream",
     "text": [
      "Error in download.file(url, destfile, method, mode = \"wb\", ...) : \n",
      "  download from 'https://cran.r-project.org/bin/windows/contrib/4.3/lavaan_0.6-17.zip' failed\n"
     ]
    },
    {
     "name": "stderr",
     "output_type": "stream",
     "text": [
      "Warning message in download.packages(pkgs, destdir = tmpd, available = available, :\n",
      "\"download of package 'lavaan' failed\"\n"
     ]
    },
    {
     "name": "stdout",
     "output_type": "stream",
     "text": [
      "package 'psych' successfully unpacked and MD5 sums checked\n",
      "package 'GPArotation' successfully unpacked and MD5 sums checked\n",
      "\n",
      "The downloaded binary packages are in\n",
      "\tC:\\Users\\Elvis\\AppData\\Local\\Temp\\RtmpyIv4m5\\downloaded_packages\n"
     ]
    },
    {
     "name": "stderr",
     "output_type": "stream",
     "text": [
      "Warning message:\n",
      "\"package 'tidyr' was built under R version 4.3.3\"\n",
      "Warning message:\n",
      "\"package 'dplyr' was built under R version 4.3.3\"\n",
      "\n",
      "Attaching package: 'dplyr'\n",
      "\n",
      "\n",
      "The following objects are masked from 'package:stats':\n",
      "\n",
      "    filter, lag\n",
      "\n",
      "\n",
      "The following objects are masked from 'package:base':\n",
      "\n",
      "    intersect, setdiff, setequal, union\n",
      "\n",
      "\n",
      "Warning message:\n",
      "\"package 'tidyverse' was built under R version 4.3.3\"\n",
      "Warning message:\n",
      "\"package 'ggplot2' was built under R version 4.3.3\"\n",
      "Warning message:\n",
      "\"package 'readr' was built under R version 4.3.3\"\n",
      "Warning message:\n",
      "\"package 'forcats' was built under R version 4.3.3\"\n",
      "Warning message:\n",
      "\"package 'lubridate' was built under R version 4.3.3\"\n",
      "── \u001b[1mAttaching core tidyverse packages\u001b[22m ──────────────────────────────────────────────────────────────── tidyverse 2.0.0 ──\n",
      "\u001b[32m✔\u001b[39m \u001b[34mforcats  \u001b[39m 1.0.0     \u001b[32m✔\u001b[39m \u001b[34mreadr    \u001b[39m 2.1.5\n",
      "\u001b[32m✔\u001b[39m \u001b[34mggplot2  \u001b[39m 3.5.0     \u001b[32m✔\u001b[39m \u001b[34mstringr  \u001b[39m 1.5.1\n",
      "\u001b[32m✔\u001b[39m \u001b[34mlubridate\u001b[39m 1.9.3     \u001b[32m✔\u001b[39m \u001b[34mtibble   \u001b[39m 3.2.1\n",
      "\u001b[32m✔\u001b[39m \u001b[34mpurrr    \u001b[39m 1.0.2     \n",
      "── \u001b[1mConflicts\u001b[22m ────────────────────────────────────────────────────────────────────────────────── tidyverse_conflicts() ──\n",
      "\u001b[31m✖\u001b[39m \u001b[34mdplyr\u001b[39m::\u001b[32mfilter()\u001b[39m masks \u001b[34mstats\u001b[39m::filter()\n",
      "\u001b[31m✖\u001b[39m \u001b[34mdplyr\u001b[39m::\u001b[32mlag()\u001b[39m    masks \u001b[34mstats\u001b[39m::lag()\n",
      "\u001b[36mℹ\u001b[39m Use the conflicted package (\u001b[3m\u001b[34m<http://conflicted.r-lib.org/>\u001b[39m\u001b[23m) to force all conflicts to become errors\n",
      "Warning message:\n",
      "\"package 'corrplot' was built under R version 4.3.3\"\n",
      "corrplot 0.92 loaded\n",
      "\n",
      "Warning message:\n",
      "\"package 'psych' was built under R version 4.3.3\"\n",
      "\n",
      "Attaching package: 'psych'\n",
      "\n",
      "\n",
      "The following objects are masked from 'package:ggplot2':\n",
      "\n",
      "    %+%, alpha\n",
      "\n",
      "\n",
      "Warning message:\n",
      "\"package 'GPArotation' was built under R version 4.3.3\"\n",
      "\n",
      "Attaching package: 'GPArotation'\n",
      "\n",
      "\n",
      "The following objects are masked from 'package:psych':\n",
      "\n",
      "    equamax, varimin\n",
      "\n",
      "\n"
     ]
    }
   ],
   "source": [
    "install.packages(c(\"psych\",\"GPArotation\"), dependencies = TRUE)\n",
    "library(tidyr)\n",
    "library(dplyr)\n",
    "library(tidyverse)\n",
    "library(corrplot)\n",
    "library(psych)\n",
    "library(GPArotation)"
   ]
  },
  {
   "cell_type": "code",
   "execution_count": 4,
   "id": "4bb9bba4",
   "metadata": {},
   "outputs": [
    {
     "data": {
      "text/html": [
       "<table class=\"dataframe\">\n",
       "<caption>A data.frame: 6 × 25</caption>\n",
       "<thead>\n",
       "\t<tr><th></th><th scope=col>X</th><th scope=col>id</th><th scope=col>Gender</th><th scope=col>Customer.Type</th><th scope=col>Age</th><th scope=col>Type.of.Travel</th><th scope=col>Class</th><th scope=col>Flight.Distance</th><th scope=col>Inflight.wifi.service</th><th scope=col>Departure.Arrival.time.convenient</th><th scope=col>⋯</th><th scope=col>Inflight.entertainment</th><th scope=col>On.board.service</th><th scope=col>Leg.room.service</th><th scope=col>Baggage.handling</th><th scope=col>Checkin.service</th><th scope=col>Inflight.service</th><th scope=col>Cleanliness</th><th scope=col>Departure.Delay.in.Minutes</th><th scope=col>Arrival.Delay.in.Minutes</th><th scope=col>satisfaction</th></tr>\n",
       "\t<tr><th></th><th scope=col>&lt;int&gt;</th><th scope=col>&lt;int&gt;</th><th scope=col>&lt;chr&gt;</th><th scope=col>&lt;chr&gt;</th><th scope=col>&lt;int&gt;</th><th scope=col>&lt;chr&gt;</th><th scope=col>&lt;chr&gt;</th><th scope=col>&lt;int&gt;</th><th scope=col>&lt;int&gt;</th><th scope=col>&lt;int&gt;</th><th scope=col>⋯</th><th scope=col>&lt;int&gt;</th><th scope=col>&lt;int&gt;</th><th scope=col>&lt;int&gt;</th><th scope=col>&lt;int&gt;</th><th scope=col>&lt;int&gt;</th><th scope=col>&lt;int&gt;</th><th scope=col>&lt;int&gt;</th><th scope=col>&lt;int&gt;</th><th scope=col>&lt;dbl&gt;</th><th scope=col>&lt;chr&gt;</th></tr>\n",
       "</thead>\n",
       "<tbody>\n",
       "\t<tr><th scope=row>1</th><td>0</td><td> 70172</td><td>Male  </td><td>Loyal Customer   </td><td>13</td><td>Personal Travel</td><td>Eco Plus</td><td> 460</td><td>3</td><td>4</td><td>⋯</td><td>5</td><td>4</td><td>3</td><td>4</td><td>4</td><td>5</td><td>5</td><td>25</td><td>18</td><td>neutral or dissatisfied</td></tr>\n",
       "\t<tr><th scope=row>2</th><td>1</td><td>  5047</td><td>Male  </td><td>disloyal Customer</td><td>25</td><td>Business travel</td><td>Business</td><td> 235</td><td>3</td><td>2</td><td>⋯</td><td>1</td><td>1</td><td>5</td><td>3</td><td>1</td><td>4</td><td>1</td><td> 1</td><td> 6</td><td>neutral or dissatisfied</td></tr>\n",
       "\t<tr><th scope=row>3</th><td>2</td><td>110028</td><td>Female</td><td>Loyal Customer   </td><td>26</td><td>Business travel</td><td>Business</td><td>1142</td><td>2</td><td>2</td><td>⋯</td><td>5</td><td>4</td><td>3</td><td>4</td><td>4</td><td>4</td><td>5</td><td> 0</td><td> 0</td><td>satisfied              </td></tr>\n",
       "\t<tr><th scope=row>4</th><td>3</td><td> 24026</td><td>Female</td><td>Loyal Customer   </td><td>25</td><td>Business travel</td><td>Business</td><td> 562</td><td>2</td><td>5</td><td>⋯</td><td>2</td><td>2</td><td>5</td><td>3</td><td>1</td><td>4</td><td>2</td><td>11</td><td> 9</td><td>neutral or dissatisfied</td></tr>\n",
       "\t<tr><th scope=row>5</th><td>4</td><td>119299</td><td>Male  </td><td>Loyal Customer   </td><td>61</td><td>Business travel</td><td>Business</td><td> 214</td><td>3</td><td>3</td><td>⋯</td><td>3</td><td>3</td><td>4</td><td>4</td><td>3</td><td>3</td><td>3</td><td> 0</td><td> 0</td><td>satisfied              </td></tr>\n",
       "\t<tr><th scope=row>6</th><td>5</td><td>111157</td><td>Female</td><td>Loyal Customer   </td><td>26</td><td>Personal Travel</td><td>Eco     </td><td>1180</td><td>3</td><td>4</td><td>⋯</td><td>1</td><td>3</td><td>4</td><td>4</td><td>4</td><td>4</td><td>1</td><td> 0</td><td> 0</td><td>neutral or dissatisfied</td></tr>\n",
       "</tbody>\n",
       "</table>\n"
      ],
      "text/latex": [
       "A data.frame: 6 × 25\n",
       "\\begin{tabular}{r|lllllllllllllllllllll}\n",
       "  & X & id & Gender & Customer.Type & Age & Type.of.Travel & Class & Flight.Distance & Inflight.wifi.service & Departure.Arrival.time.convenient & ⋯ & Inflight.entertainment & On.board.service & Leg.room.service & Baggage.handling & Checkin.service & Inflight.service & Cleanliness & Departure.Delay.in.Minutes & Arrival.Delay.in.Minutes & satisfaction\\\\\n",
       "  & <int> & <int> & <chr> & <chr> & <int> & <chr> & <chr> & <int> & <int> & <int> & ⋯ & <int> & <int> & <int> & <int> & <int> & <int> & <int> & <int> & <dbl> & <chr>\\\\\n",
       "\\hline\n",
       "\t1 & 0 &  70172 & Male   & Loyal Customer    & 13 & Personal Travel & Eco Plus &  460 & 3 & 4 & ⋯ & 5 & 4 & 3 & 4 & 4 & 5 & 5 & 25 & 18 & neutral or dissatisfied\\\\\n",
       "\t2 & 1 &   5047 & Male   & disloyal Customer & 25 & Business travel & Business &  235 & 3 & 2 & ⋯ & 1 & 1 & 5 & 3 & 1 & 4 & 1 &  1 &  6 & neutral or dissatisfied\\\\\n",
       "\t3 & 2 & 110028 & Female & Loyal Customer    & 26 & Business travel & Business & 1142 & 2 & 2 & ⋯ & 5 & 4 & 3 & 4 & 4 & 4 & 5 &  0 &  0 & satisfied              \\\\\n",
       "\t4 & 3 &  24026 & Female & Loyal Customer    & 25 & Business travel & Business &  562 & 2 & 5 & ⋯ & 2 & 2 & 5 & 3 & 1 & 4 & 2 & 11 &  9 & neutral or dissatisfied\\\\\n",
       "\t5 & 4 & 119299 & Male   & Loyal Customer    & 61 & Business travel & Business &  214 & 3 & 3 & ⋯ & 3 & 3 & 4 & 4 & 3 & 3 & 3 &  0 &  0 & satisfied              \\\\\n",
       "\t6 & 5 & 111157 & Female & Loyal Customer    & 26 & Personal Travel & Eco      & 1180 & 3 & 4 & ⋯ & 1 & 3 & 4 & 4 & 4 & 4 & 1 &  0 &  0 & neutral or dissatisfied\\\\\n",
       "\\end{tabular}\n"
      ],
      "text/markdown": [
       "\n",
       "A data.frame: 6 × 25\n",
       "\n",
       "| <!--/--> | X &lt;int&gt; | id &lt;int&gt; | Gender &lt;chr&gt; | Customer.Type &lt;chr&gt; | Age &lt;int&gt; | Type.of.Travel &lt;chr&gt; | Class &lt;chr&gt; | Flight.Distance &lt;int&gt; | Inflight.wifi.service &lt;int&gt; | Departure.Arrival.time.convenient &lt;int&gt; | ⋯ ⋯ | Inflight.entertainment &lt;int&gt; | On.board.service &lt;int&gt; | Leg.room.service &lt;int&gt; | Baggage.handling &lt;int&gt; | Checkin.service &lt;int&gt; | Inflight.service &lt;int&gt; | Cleanliness &lt;int&gt; | Departure.Delay.in.Minutes &lt;int&gt; | Arrival.Delay.in.Minutes &lt;dbl&gt; | satisfaction &lt;chr&gt; |\n",
       "|---|---|---|---|---|---|---|---|---|---|---|---|---|---|---|---|---|---|---|---|---|---|\n",
       "| 1 | 0 |  70172 | Male   | Loyal Customer    | 13 | Personal Travel | Eco Plus |  460 | 3 | 4 | ⋯ | 5 | 4 | 3 | 4 | 4 | 5 | 5 | 25 | 18 | neutral or dissatisfied |\n",
       "| 2 | 1 |   5047 | Male   | disloyal Customer | 25 | Business travel | Business |  235 | 3 | 2 | ⋯ | 1 | 1 | 5 | 3 | 1 | 4 | 1 |  1 |  6 | neutral or dissatisfied |\n",
       "| 3 | 2 | 110028 | Female | Loyal Customer    | 26 | Business travel | Business | 1142 | 2 | 2 | ⋯ | 5 | 4 | 3 | 4 | 4 | 4 | 5 |  0 |  0 | satisfied               |\n",
       "| 4 | 3 |  24026 | Female | Loyal Customer    | 25 | Business travel | Business |  562 | 2 | 5 | ⋯ | 2 | 2 | 5 | 3 | 1 | 4 | 2 | 11 |  9 | neutral or dissatisfied |\n",
       "| 5 | 4 | 119299 | Male   | Loyal Customer    | 61 | Business travel | Business |  214 | 3 | 3 | ⋯ | 3 | 3 | 4 | 4 | 3 | 3 | 3 |  0 |  0 | satisfied               |\n",
       "| 6 | 5 | 111157 | Female | Loyal Customer    | 26 | Personal Travel | Eco      | 1180 | 3 | 4 | ⋯ | 1 | 3 | 4 | 4 | 4 | 4 | 1 |  0 |  0 | neutral or dissatisfied |\n",
       "\n"
      ],
      "text/plain": [
       "  X id     Gender Customer.Type     Age Type.of.Travel  Class   \n",
       "1 0  70172 Male   Loyal Customer    13  Personal Travel Eco Plus\n",
       "2 1   5047 Male   disloyal Customer 25  Business travel Business\n",
       "3 2 110028 Female Loyal Customer    26  Business travel Business\n",
       "4 3  24026 Female Loyal Customer    25  Business travel Business\n",
       "5 4 119299 Male   Loyal Customer    61  Business travel Business\n",
       "6 5 111157 Female Loyal Customer    26  Personal Travel Eco     \n",
       "  Flight.Distance Inflight.wifi.service Departure.Arrival.time.convenient ⋯\n",
       "1  460            3                     4                                 ⋯\n",
       "2  235            3                     2                                 ⋯\n",
       "3 1142            2                     2                                 ⋯\n",
       "4  562            2                     5                                 ⋯\n",
       "5  214            3                     3                                 ⋯\n",
       "6 1180            3                     4                                 ⋯\n",
       "  Inflight.entertainment On.board.service Leg.room.service Baggage.handling\n",
       "1 5                      4                3                4               \n",
       "2 1                      1                5                3               \n",
       "3 5                      4                3                4               \n",
       "4 2                      2                5                3               \n",
       "5 3                      3                4                4               \n",
       "6 1                      3                4                4               \n",
       "  Checkin.service Inflight.service Cleanliness Departure.Delay.in.Minutes\n",
       "1 4               5                5           25                        \n",
       "2 1               4                1            1                        \n",
       "3 4               4                5            0                        \n",
       "4 1               4                2           11                        \n",
       "5 3               3                3            0                        \n",
       "6 4               4                1            0                        \n",
       "  Arrival.Delay.in.Minutes satisfaction           \n",
       "1 18                       neutral or dissatisfied\n",
       "2  6                       neutral or dissatisfied\n",
       "3  0                       satisfied              \n",
       "4  9                       neutral or dissatisfied\n",
       "5  0                       satisfied              \n",
       "6  0                       neutral or dissatisfied"
      ]
     },
     "metadata": {},
     "output_type": "display_data"
    },
    {
     "data": {
      "text/html": [
       "<style>\n",
       ".list-inline {list-style: none; margin:0; padding: 0}\n",
       ".list-inline>li {display: inline-block}\n",
       ".list-inline>li:not(:last-child)::after {content: \"\\00b7\"; padding: 0 .5ex}\n",
       "</style>\n",
       "<ol class=list-inline><li>103904</li><li>25</li></ol>\n"
      ],
      "text/latex": [
       "\\begin{enumerate*}\n",
       "\\item 103904\n",
       "\\item 25\n",
       "\\end{enumerate*}\n"
      ],
      "text/markdown": [
       "1. 103904\n",
       "2. 25\n",
       "\n",
       "\n"
      ],
      "text/plain": [
       "[1] 103904     25"
      ]
     },
     "metadata": {},
     "output_type": "display_data"
    },
    {
     "name": "stdout",
     "output_type": "stream",
     "text": [
      "'data.frame':\t103904 obs. of  25 variables:\n",
      " $ X                                : int  0 1 2 3 4 5 6 7 8 9 ...\n",
      " $ id                               : int  70172 5047 110028 24026 119299 111157 82113 96462 79485 65725 ...\n",
      " $ Gender                           : chr  \"Male\" \"Male\" \"Female\" \"Female\" ...\n",
      " $ Customer.Type                    : chr  \"Loyal Customer\" \"disloyal Customer\" \"Loyal Customer\" \"Loyal Customer\" ...\n",
      " $ Age                              : int  13 25 26 25 61 26 47 52 41 20 ...\n",
      " $ Type.of.Travel                   : chr  \"Personal Travel\" \"Business travel\" \"Business travel\" \"Business travel\" ...\n",
      " $ Class                            : chr  \"Eco Plus\" \"Business\" \"Business\" \"Business\" ...\n",
      " $ Flight.Distance                  : int  460 235 1142 562 214 1180 1276 2035 853 1061 ...\n",
      " $ Inflight.wifi.service            : int  3 3 2 2 3 3 2 4 1 3 ...\n",
      " $ Departure.Arrival.time.convenient: int  4 2 2 5 3 4 4 3 2 3 ...\n",
      " $ Ease.of.Online.booking           : int  3 3 2 5 3 2 2 4 2 3 ...\n",
      " $ Gate.location                    : int  1 3 2 5 3 1 3 4 2 4 ...\n",
      " $ Food.and.drink                   : int  5 1 5 2 4 1 2 5 4 2 ...\n",
      " $ Online.boarding                  : int  3 3 5 2 5 2 2 5 3 3 ...\n",
      " $ Seat.comfort                     : int  5 1 5 2 5 1 2 5 3 3 ...\n",
      " $ Inflight.entertainment           : int  5 1 5 2 3 1 2 5 1 2 ...\n",
      " $ On.board.service                 : int  4 1 4 2 3 3 3 5 1 2 ...\n",
      " $ Leg.room.service                 : int  3 5 3 5 4 4 3 5 2 3 ...\n",
      " $ Baggage.handling                 : int  4 3 4 3 4 4 4 5 1 4 ...\n",
      " $ Checkin.service                  : int  4 1 4 1 3 4 3 4 4 4 ...\n",
      " $ Inflight.service                 : int  5 4 4 4 3 4 5 5 1 3 ...\n",
      " $ Cleanliness                      : int  5 1 5 2 3 1 2 4 2 2 ...\n",
      " $ Departure.Delay.in.Minutes       : int  25 1 0 11 0 0 9 4 0 0 ...\n",
      " $ Arrival.Delay.in.Minutes         : num  18 6 0 9 0 0 23 0 0 0 ...\n",
      " $ satisfaction                     : chr  \"neutral or dissatisfied\" \"neutral or dissatisfied\" \"satisfied\" \"neutral or dissatisfied\" ...\n"
     ]
    }
   ],
   "source": [
    "ds <- read.csv(\"train.csv\")\n",
    "head(ds)\n",
    "dim(ds)\n",
    "str(ds)"
   ]
  },
  {
   "cell_type": "markdown",
   "id": "f9eeb468",
   "metadata": {},
   "source": [
    "Cleaning the dataset"
   ]
  },
  {
   "cell_type": "code",
   "execution_count": 5,
   "id": "2efd0a38",
   "metadata": {},
   "outputs": [
    {
     "data": {
      "text/html": [
       "TRUE"
      ],
      "text/latex": [
       "TRUE"
      ],
      "text/markdown": [
       "TRUE"
      ],
      "text/plain": [
       "[1] TRUE"
      ]
     },
     "metadata": {},
     "output_type": "display_data"
    },
    {
     "data": {
      "text/plain": [
       "       X                id            Gender          Customer.Type     \n",
       " Min.   :     0   Min.   :     1   Length:103904      Length:103904     \n",
       " 1st Qu.: 25976   1st Qu.: 32534   Class :character   Class :character  \n",
       " Median : 51952   Median : 64857   Mode  :character   Mode  :character  \n",
       " Mean   : 51952   Mean   : 64924                                        \n",
       " 3rd Qu.: 77927   3rd Qu.: 97368                                        \n",
       " Max.   :103903   Max.   :129880                                        \n",
       "                                                                        \n",
       "      Age        Type.of.Travel        Class           Flight.Distance\n",
       " Min.   : 7.00   Length:103904      Length:103904      Min.   :  31   \n",
       " 1st Qu.:27.00   Class :character   Class :character   1st Qu.: 414   \n",
       " Median :40.00   Mode  :character   Mode  :character   Median : 843   \n",
       " Mean   :39.38                                         Mean   :1189   \n",
       " 3rd Qu.:51.00                                         3rd Qu.:1743   \n",
       " Max.   :85.00                                         Max.   :4983   \n",
       "                                                                      \n",
       " Inflight.wifi.service Departure.Arrival.time.convenient Ease.of.Online.booking\n",
       " Min.   :0.00          Min.   :0.00                      Min.   :0.000         \n",
       " 1st Qu.:2.00          1st Qu.:2.00                      1st Qu.:2.000         \n",
       " Median :3.00          Median :3.00                      Median :3.000         \n",
       " Mean   :2.73          Mean   :3.06                      Mean   :2.757         \n",
       " 3rd Qu.:4.00          3rd Qu.:4.00                      3rd Qu.:4.000         \n",
       " Max.   :5.00          Max.   :5.00                      Max.   :5.000         \n",
       "                                                                               \n",
       " Gate.location   Food.and.drink  Online.boarding  Seat.comfort  \n",
       " Min.   :0.000   Min.   :0.000   Min.   :0.00    Min.   :0.000  \n",
       " 1st Qu.:2.000   1st Qu.:2.000   1st Qu.:2.00    1st Qu.:2.000  \n",
       " Median :3.000   Median :3.000   Median :3.00    Median :4.000  \n",
       " Mean   :2.977   Mean   :3.202   Mean   :3.25    Mean   :3.439  \n",
       " 3rd Qu.:4.000   3rd Qu.:4.000   3rd Qu.:4.00    3rd Qu.:5.000  \n",
       " Max.   :5.000   Max.   :5.000   Max.   :5.00    Max.   :5.000  \n",
       "                                                                \n",
       " Inflight.entertainment On.board.service Leg.room.service Baggage.handling\n",
       " Min.   :0.000          Min.   :0.000    Min.   :0.000    Min.   :1.000   \n",
       " 1st Qu.:2.000          1st Qu.:2.000    1st Qu.:2.000    1st Qu.:3.000   \n",
       " Median :4.000          Median :4.000    Median :4.000    Median :4.000   \n",
       " Mean   :3.358          Mean   :3.382    Mean   :3.351    Mean   :3.632   \n",
       " 3rd Qu.:4.000          3rd Qu.:4.000    3rd Qu.:4.000    3rd Qu.:5.000   \n",
       " Max.   :5.000          Max.   :5.000    Max.   :5.000    Max.   :5.000   \n",
       "                                                                          \n",
       " Checkin.service Inflight.service  Cleanliness    Departure.Delay.in.Minutes\n",
       " Min.   :0.000   Min.   :0.00     Min.   :0.000   Min.   :   0.00           \n",
       " 1st Qu.:3.000   1st Qu.:3.00     1st Qu.:2.000   1st Qu.:   0.00           \n",
       " Median :3.000   Median :4.00     Median :3.000   Median :   0.00           \n",
       " Mean   :3.304   Mean   :3.64     Mean   :3.286   Mean   :  14.82           \n",
       " 3rd Qu.:4.000   3rd Qu.:5.00     3rd Qu.:4.000   3rd Qu.:  12.00           \n",
       " Max.   :5.000   Max.   :5.00     Max.   :5.000   Max.   :1592.00           \n",
       "                                                                            \n",
       " Arrival.Delay.in.Minutes satisfaction      \n",
       " Min.   :   0.00          Length:103904     \n",
       " 1st Qu.:   0.00          Class :character  \n",
       " Median :   0.00          Mode  :character  \n",
       " Mean   :  15.18                            \n",
       " 3rd Qu.:  13.00                            \n",
       " Max.   :1584.00                            \n",
       " NA's   :310                                "
      ]
     },
     "metadata": {},
     "output_type": "display_data"
    }
   ],
   "source": [
    "any(is.na(ds))\n",
    "summary(ds)"
   ]
  },
  {
   "cell_type": "markdown",
   "id": "554926a4",
   "metadata": {},
   "source": [
    "观察\n",
    "- “Arrival.Delay.in.Minutes”中缺少310个值。将用NA的中值=0来替换NA\n",
    "- 删除X列，这是序列号，因为它不需要\n",
    "- 到达Delay.in.Minutes是num数据类型,将其更改为int"
   ]
  },
  {
   "cell_type": "code",
   "execution_count": 6,
   "id": "362078d9",
   "metadata": {},
   "outputs": [
    {
     "data": {
      "text/html": [
       "FALSE"
      ],
      "text/latex": [
       "FALSE"
      ],
      "text/markdown": [
       "FALSE"
      ],
      "text/plain": [
       "[1] FALSE"
      ]
     },
     "metadata": {},
     "output_type": "display_data"
    }
   ],
   "source": [
    "ds <- subset(ds,select = -X)\n",
    "ds$Departure.Delay.in.Minutes = as.numeric(ds$Departure.Delay.in.Minutes)\n",
    "ds$Arrival.Delay.in.Minutes[is.na(ds$Arrival.Delay.in.Minutes)] <-0\n",
    "any(is.na(ds))"
   ]
  },
  {
   "cell_type": "markdown",
   "id": "a16127ed",
   "metadata": {},
   "source": [
    "检查异常值"
   ]
  },
  {
   "cell_type": "code",
   "execution_count": 7,
   "id": "7558da54",
   "metadata": {},
   "outputs": [
    {
     "data": {
      "image/png": "[encoded data removed]",
      "text/plain": [
       "plot without title"
      ]
     },
     "metadata": {
      "image/png": {
       "height": 480,
       "width": 840
      }
     },
     "output_type": "display_data"
    }
   ],
   "source": [
    "ds_num<-select_if(ds,is.numeric)%>%select(-id)\n",
    "# gather函数将数据集从宽格式转换为长格式\n",
    "ds_num_p<-ds_num %>% gather(variable,values,1:18 )\n",
    "options(repr.plot.width = 14, repr.plot.height = 8)\n",
    "\n",
    "ggplot(ds_num_p)+\n",
    "  geom_boxplot(aes(x=variable,y=values),fill=\"cadetblue\") + \n",
    "  facet_wrap(~variable,ncol=6,scales=\"free\") + \n",
    "  theme(strip.text.x = element_blank(),\n",
    "        text = element_text(size=14))"
   ]
  },
  {
   "cell_type": "markdown",
   "id": "de486140",
   "metadata": {},
   "source": [
    "有异常值的变量是 departure, arrival, flight distance, and rating on check-in service。这些变量都不能修改，因为它们包含主观数据"
   ]
  },
  {
   "cell_type": "code",
   "execution_count": 8,
   "id": "2ead5739",
   "metadata": {
    "scrolled": false
   },
   "outputs": [
    {
     "name": "stderr",
     "output_type": "stream",
     "text": [
      "Warning message:\n",
      "\"\u001b[1m\u001b[22mThe dot-dot notation (`..count..`) was deprecated in ggplot2 3.4.0.\n",
      "\u001b[36mℹ\u001b[39m Please use `after_stat(count)` instead.\"\n"
     ]
    },
    {
     "data": {
      "image/png": "[encoded data removed]",
      "text/plain": [
       "plot without title"
      ]
     },
     "metadata": {
      "image/png": {
       "height": 480,
       "width": 840
      }
     },
     "output_type": "display_data"
    }
   ],
   "source": [
    "options(repr.plot.width = 14, repr.plot.height = 8)\n",
    "ggplot(ds, aes(x=`satisfaction`))+\n",
    "  geom_bar(fill=\"cadetblue\", alpha=0.6)+\n",
    "  geom_text(aes(label=scales::percent((..count..)/sum(..count..))), stat=\"count\", vjust = -0.8, size=6)+\n",
    "  stat_count(aes(y=..count..,label=paste0(\"n=\",..count..)),geom=\"text\",vjust=1.2,size=5.8,color=\"gray35\")+\n",
    "  labs(x=\"Satisfaction\", title = \"Distribution of Customer Satisfaction\")+\n",
    "  theme(text = element_text(size=16))"
   ]
  },
  {
   "cell_type": "markdown",
   "id": "bc3d34cd",
   "metadata": {},
   "source": [
    "# Correlation Matrix\n",
    "分为以下两种；\n",
    "- Numerical variables\n",
    "- categorical variables"
   ]
  },
  {
   "cell_type": "code",
   "execution_count": 9,
   "id": "83b169ab",
   "metadata": {},
   "outputs": [
    {
     "data": {
      "text/plain": [
       "      Age           Flight.Distance     Departure.Delay.in.Minutes\n",
       " Min.   :-0.01210   Min.   :-0.002470   Min.   :-0.0101522        \n",
       " 1st Qu.:-0.01064   1st Qu.: 0.001001   1st Qu.:-0.0009195        \n",
       " Median : 0.04465   Median : 0.050809   Median : 0.4812026        \n",
       " Mean   : 0.26930   Mean   : 0.274787   Mean   : 0.4880632        \n",
       " 3rd Qu.: 0.32460   3rd Qu.: 0.324596   3rd Qu.: 0.9701853        \n",
       " Max.   : 1.00000   Max.   : 1.000000   Max.   : 1.0000000        \n",
       " Arrival.Delay.in.Minutes\n",
       " Min.   :-0.012105       \n",
       " 1st Qu.:-0.004879       \n",
       " Median : 0.478888       \n",
       " Mean   : 0.486418       \n",
       " 3rd Qu.: 0.970185       \n",
       " Max.   : 1.000000       "
      ]
     },
     "metadata": {},
     "output_type": "display_data"
    },
    {
     "data": {
      "image/png": "[encoded data removed]",
      "text/plain": [
       "Plot with title \"\""
      ]
     },
     "metadata": {
      "image/png": {
       "height": 480,
       "width": 840
      }
     },
     "output_type": "display_data"
    }
   ],
   "source": [
    "# Numerical variables\n",
    "ds_cor1 <- cor(subset(ds,select = c(Age, Flight.Distance,Departure.Delay.in.Minutes,Arrival.Delay.in.Minutes)))\n",
    "summary(ds_cor1)\n",
    "options(repr.plot.width = 14, repr.plot.height = 8)\n",
    "corrplot(ds_cor1, na.label = \" \", method=\"color\", tl.col = \"black\", tl.cex = 1)"
   ]
  },
  {
   "cell_type": "code",
   "execution_count": 10,
   "id": "6f209330",
   "metadata": {},
   "outputs": [
    {
     "data": {
      "text/plain": [
       " Inflight.wifi.service Departure.Arrival.time.convenient Ease.of.Online.booking\n",
       " Min.   :0.04319       Min.   :-0.004861                 Min.   :0.01108       \n",
       " 1st Qu.:0.12179       1st Qu.: 0.012904                 1st Qu.:0.03272       \n",
       " Median :0.14760       Median : 0.071122                 Median :0.04293       \n",
       " Mean   :0.28635       Mean   : 0.188676                 Mean   :0.24087       \n",
       " 3rd Qu.:0.34195       3rd Qu.: 0.281217                 3rd Qu.:0.42874       \n",
       " Max.   :1.00000       Max.   : 1.000000                 Max.   :1.00000       \n",
       " Gate.location       Food.and.drink      Online.boarding     Seat.comfort     \n",
       " Min.   :-0.035428   Min.   :-0.001159   Min.   :0.001688   Min.   :0.003669  \n",
       " 1st Qu.:-0.003162   1st Qu.: 0.032871   1st Qu.:0.093448   1st Qu.:0.070549  \n",
       " Median : 0.002001   Median : 0.073186   Median :0.219465   Median :0.127314  \n",
       " Mean   : 0.155562   Mean   : 0.250517   Mean   :0.274701   Mean   :0.287480  \n",
       " 3rd Qu.: 0.253103   3rd Qu.: 0.489534   3rd Qu.:0.385935   3rd Qu.:0.535970  \n",
       " Max.   : 1.000000   Max.   : 1.000000   Max.   :1.000000   Max.   :1.000000  \n",
       " Inflight.entertainment On.board.service   Leg.room.service   \n",
       " Min.   :-0.004861      Min.   :-0.02837   Min.   :-0.005873  \n",
       " 1st Qu.: 0.142981      1st Qu.: 0.08204   1st Qu.: 0.098668  \n",
       " Median : 0.338951      Median : 0.14371   Median : 0.138544  \n",
       " Mean   : 0.363484      Mean   : 0.26857   Mean   : 0.227110  \n",
       " 3rd Qu.: 0.562981      3rd Qu.: 0.40399   3rd Qu.: 0.341544  \n",
       " Max.   : 1.000000      Max.   : 1.00000   Max.   : 1.000000  \n",
       " Baggage.handling   Checkin.service    Inflight.service    Cleanliness      \n",
       " Min.   :0.002313   Min.   :-0.03543   Min.   :0.001681   Min.   :-0.00383  \n",
       " 1st Qu.:0.072730   1st Qu.: 0.08881   1st Qu.:0.070243   1st Qu.: 0.09053  \n",
       " Median :0.108358   Median : 0.16636   Median :0.099610   Median : 0.12796  \n",
       " Mean   :0.260790   Mean   : 0.19740   Mean   :0.262666   Mean   : 0.29305  \n",
       " 3rd Qu.:0.376043   3rd Qu.: 0.22596   3rd Qu.:0.395805   3rd Qu.: 0.57620  \n",
       " Max.   :1.000000   Max.   : 1.00000   Max.   :1.000000   Max.   : 1.00000  "
      ]
     },
     "metadata": {},
     "output_type": "display_data"
    },
    {
     "data": {
      "image/png": "[encoded data removed]",
      "text/plain": [
       "Plot with title \"\""
      ]
     },
     "metadata": {
      "image/png": {
       "height": 480,
       "width": 840
      }
     },
     "output_type": "display_data"
    }
   ],
   "source": [
    "# Categorical variable Correlation Plot\n",
    "ds_cor2 <- cor(select_if(subset(ds, select=-c(id, Age, Flight.Distance,Departure.Delay.in.Minutes,Arrival.Delay.in.Minutes)), is.numeric))\n",
    "summary(ds_cor2)\n",
    "options(repr.plot.width = 14, repr.plot.height = 8)\n",
    "corrplot(ds_cor2, na.label=\" \", tl.cex=1, tl.col=\"black\", method=\"color\")"
   ]
  },
  {
   "cell_type": "markdown",
   "id": "2d7edd00",
   "metadata": {},
   "source": [
    "观察:\n",
    "\n",
    "- 到达延迟和离开延迟之间存在高度正相关。如果航班晚点起飞，很可能也会晚点到达。\n",
    "\n",
    "- 座位舒适度、饮食和机上娱乐等变量往往呈正相关。\n",
    "\n",
    "- WiFi服务、在线预订和登机口位置等变量往往呈正相关。\n",
    "- 清洁度与登机口位置、食物和饮料、座椅舒适度以及机上娱乐相关。"
   ]
  },
  {
   "cell_type": "markdown",
   "id": "e7904673",
   "metadata": {},
   "source": [
    "Factor Analysis"
   ]
  },
  {
   "cell_type": "markdown",
   "id": "13e1aeac",
   "metadata": {},
   "source": [
    "KMO测试是在执行因子分析前用来评估数据是否适合的一种方式，即变量之间的共同度，即变量间共享的方差比例：\n",
    "\n",
    "- 若高的KMO值则表明数据中变量间相关性高，适合进行因子分析\n",
    "- 个体MSA值若低于0.60则表明该变量与其他相关性较低，不适合做因子分析"
   ]
  },
  {
   "cell_type": "code",
   "execution_count": 11,
   "id": "9fc40f46",
   "metadata": {},
   "outputs": [
    {
     "data": {
      "text/plain": [
       "Kaiser-Meyer-Olkin factor adequacy\n",
       "Call: KMO(r = ds_cor2)\n",
       "Overall MSA =  0.78\n",
       "MSA for each item = \n",
       "            Inflight.wifi.service Departure.Arrival.time.convenient \n",
       "                             0.74                              0.75 \n",
       "           Ease.of.Online.booking                     Gate.location \n",
       "                             0.68                              0.71 \n",
       "                   Food.and.drink                   Online.boarding \n",
       "                             0.84                              0.74 \n",
       "                     Seat.comfort            Inflight.entertainment \n",
       "                             0.83                              0.77 \n",
       "                 On.board.service                  Leg.room.service \n",
       "                             0.83                              0.89 \n",
       "                 Baggage.handling                   Checkin.service \n",
       "                             0.81                              0.70 \n",
       "                 Inflight.service                       Cleanliness \n",
       "                             0.78                              0.82 "
      ]
     },
     "metadata": {},
     "output_type": "display_data"
    }
   ],
   "source": [
    "KMO(ds_cor2)"
   ]
  },
  {
   "cell_type": "markdown",
   "id": "4303c7fd",
   "metadata": {},
   "source": [
    "观察\n",
    "\n",
    "- KMO测试表明，数据集适合因子分析，因为总体MSA为0.78（总体MSA应为0-1.0&>.60）。\n",
    "- 每个变量的个体MSA>0.60，这表明无需为EFA删除任何一个变量"
   ]
  },
  {
   "cell_type": "markdown",
   "id": "f1acd58d",
   "metadata": {},
   "source": [
    "Bartlett检验：\n",
    "检验目标是为了检验数据的相关矩阵是否为单位矩阵（即所有变量是否独立）："
   ]
  },
  {
   "cell_type": "code",
   "execution_count": 12,
   "id": "4196a603",
   "metadata": {},
   "outputs": [
    {
     "name": "stderr",
     "output_type": "stream",
     "text": [
      "Warning message in cortest.bartlett(ds_cor2):\n",
      "\"n not specified, 100 used\"\n"
     ]
    },
    {
     "data": {
      "text/html": [
       "<dl>\n",
       "\t<dt>$chisq</dt>\n",
       "\t\t<dd>541.464323738045</dd>\n",
       "\t<dt>$p.value</dt>\n",
       "\t\t<dd>3.14885121405574e-65</dd>\n",
       "\t<dt>$df</dt>\n",
       "\t\t<dd>91</dd>\n",
       "</dl>\n"
      ],
      "text/latex": [
       "\\begin{description}\n",
       "\\item[\\$chisq] 541.464323738045\n",
       "\\item[\\$p.value] 3.14885121405574e-65\n",
       "\\item[\\$df] 91\n",
       "\\end{description}\n"
      ],
      "text/markdown": [
       "$chisq\n",
       ":   541.464323738045\n",
       "$p.value\n",
       ":   3.14885121405574e-65\n",
       "$df\n",
       ":   91\n",
       "\n",
       "\n"
      ],
      "text/plain": [
       "$chisq\n",
       "[1] 541.4643\n",
       "\n",
       "$p.value\n",
       "[1] 3.148851e-65\n",
       "\n",
       "$df\n",
       "[1] 91\n"
      ]
     },
     "metadata": {},
     "output_type": "display_data"
    }
   ],
   "source": [
    "cortest.bartlett(ds_cor2)"
   ]
  },
  {
   "cell_type": "markdown",
   "id": "63689f93",
   "metadata": {},
   "source": [
    "观察\n",
    "\n",
    "Barlett检验的p值（3.14x10**-65)<0.05，表明EFA取得了进展\n",
    "- 步骤2：确定因素的数量\n",
    "将使用以下方法来确定因素的数量：\n",
    "\n",
    "- 特征值法\n",
    "- 散点图图\n",
    "\n",
    "-特征值是一种度量，它表示一个因素可以解释变量的变化程度"
   ]
  },
  {
   "cell_type": "code",
   "execution_count": 13,
   "id": "2673b01b",
   "metadata": {},
   "outputs": [
    {
     "name": "stdout",
     "output_type": "stream",
     "text": [
      "\n",
      " Eigen values of variables with ev>=1:  \n",
      " \n",
      " 3.800117 2.361986 2.165892 1.063274 \n",
      " \n",
      " Sum of eigen values where ev >1 : \n",
      " 9.391269 \n",
      " "
     ]
    },
    {
     "data": {
      "image/png": "[encoded data removed]",
      "text/plain": [
       "plot without title"
      ]
     },
     "metadata": {
      "image/png": {
       "height": 480,
       "width": 840
      }
     },
     "output_type": "display_data"
    }
   ],
   "source": [
    "ds.eigen <- data.frame(eigen(ds_cor2)$values)\n",
    "colnames(ds.eigen)<-\"eigen_value\"\n",
    "ds.eigen$type <- ifelse(ds.eigen$`eigen_value`>=1,\">=1\",\"<1\")\n",
    "\n",
    "options(repr.plot.width = 14, repr.plot.height = 8)\n",
    "ggplot(ds.eigen, aes(x= reorder(rownames(ds.eigen),-`eigen_value`) ,y=`eigen_value`, fill=`type`))+\n",
    "  geom_col()+\n",
    "  labs(x=\"Variables\", y=\"Eigen Value\")+\n",
    "  scale_fill_manual(values=c(\"darkslategray2\", \"cadetblue3\"))+\n",
    "  ylim(0,4.5)+\n",
    "theme(text=element_text(size=16))\n",
    "\n",
    "cat(\"\\n Eigen values of variables with ev>=1: \" , \"\\n \\n\", \n",
    "    ds.eigen$eigen_value[c(1,2,3,4)] , \"\\n \\n\",\n",
    "    \"Sum of eigen values where ev >1 : \\n\" , sum(ds.eigen$eigen_value[c(1,2,3,4)]), \"\\n \")"
   ]
  },
  {
   "cell_type": "markdown",
   "id": "e23755e9",
   "metadata": {},
   "source": [
    "前四个因子可以解释大约9.39个方差"
   ]
  },
  {
   "cell_type": "code",
   "execution_count": 15,
   "id": "d2851e64",
   "metadata": {},
   "outputs": [
    {
     "data": {
      "image/png": "[encoded data removed]",
      "text/plain": [
       "Plot with title \"Scree plot\""
      ]
     },
     "metadata": {
      "image/png": {
       "height": 480,
       "width": 840
      }
     },
     "output_type": "display_data"
    }
   ],
   "source": [
    "#Scree plot\n",
    "options(repr.plot.width = 14, repr.plot.height = 8)\n",
    "scree(ds_cor2)"
   ]
  },
  {
   "cell_type": "markdown",
   "id": "15da3031",
   "metadata": {},
   "source": [
    "Scree plot suggests 3 factors."
   ]
  },
  {
   "cell_type": "markdown",
   "id": "a7cbc37a",
   "metadata": {},
   "source": [
    "# 因子旋转的选取\n",
    "一般分为以下几种：\n",
    "- 不旋转\n",
    "- 正交旋转（Varimax\n",
    "- 斜交旋转（Promax"
   ]
  },
  {
   "cell_type": "code",
   "execution_count": 16,
   "id": "31c374d0",
   "metadata": {},
   "outputs": [
    {
     "data": {
      "text/plain": [
       "Factor Analysis using method =  minres\n",
       "Call: fa(r = ds_cor2, nfactors = 3, rotate = \"none\")\n",
       "Standardized loadings (pattern matrix) based upon correlation matrix\n",
       "                                   MR1   MR2   MR3   h2   u2 com\n",
       "Inflight.wifi.service             0.43  0.65 -0.10 0.62 0.38 1.8\n",
       "Departure.Arrival.time.convenient 0.17  0.48 -0.01 0.26 0.74 1.2\n",
       "Ease.of.Online.booking            0.32  0.87 -0.13 0.87 0.13 1.3\n",
       "Gate.location                     0.11  0.49 -0.08 0.26 0.74 1.2\n",
       "Food.and.drink                    0.58 -0.24 -0.42 0.57 0.43 2.2\n",
       "Online.boarding                   0.47  0.20 -0.18 0.30 0.70 1.7\n",
       "Seat.comfort                      0.65 -0.24 -0.39 0.63 0.37 1.9\n",
       "Inflight.entertainment            0.84 -0.27 -0.05 0.77 0.23 1.2\n",
       "On.board.service                  0.49 -0.05  0.51 0.50 0.50 2.0\n",
       "Leg.room.service                  0.36  0.02  0.34 0.24 0.76 2.0\n",
       "Baggage.handling                  0.47 -0.03  0.60 0.59 0.41 1.9\n",
       "Checkin.service                   0.28 -0.04  0.15 0.10 0.90 1.5\n",
       "Inflight.service                  0.48 -0.04  0.64 0.64 0.36 1.9\n",
       "Cleanliness                       0.70 -0.29 -0.42 0.74 0.26 2.0\n",
       "\n",
       "                       MR1  MR2  MR3\n",
       "SS loadings           3.40 1.96 1.73\n",
       "Proportion Var        0.24 0.14 0.12\n",
       "Cumulative Var        0.24 0.38 0.51\n",
       "Proportion Explained  0.48 0.28 0.24\n",
       "Cumulative Proportion 0.48 0.76 1.00\n",
       "\n",
       "Mean item complexity =  1.7\n",
       "Test of the hypothesis that 3 factors are sufficient.\n",
       "\n",
       "df null model =  91  with the objective function =  5.79\n",
       "df of  the model are 52  and the objective function was  0.5 \n",
       "\n",
       "The root mean square of the residuals (RMSR) is  0.04 \n",
       "The df corrected root mean square of the residuals is  0.06 \n",
       "\n",
       "Fit based upon off diagonal values = 0.98\n",
       "Measures of factor score adequacy             \n",
       "                                                   MR1  MR2  MR3\n",
       "Correlation of (regression) scores with factors   0.96 0.95 0.90\n",
       "Multiple R square of scores with factors          0.91 0.90 0.81\n",
       "Minimum correlation of possible factor scores     0.82 0.80 0.63"
      ]
     },
     "metadata": {},
     "output_type": "display_data"
    },
    {
     "data": {
      "image/png": "[encoded data removed]",
      "text/plain": [
       "Plot with title \"Factor Analysis\""
      ]
     },
     "metadata": {
      "image/png": {
       "height": 480,
       "width": 840
      }
     },
     "output_type": "display_data"
    }
   ],
   "source": [
    "ds.fa1 <- fa(ds_cor2, 3,rotate= \"none\")\n",
    "ds.fa1\n",
    "fa.diagram(ds.fa1)"
   ]
  },
  {
   "cell_type": "markdown",
   "id": "109bf926",
   "metadata": {},
   "source": [
    "不进行旋转时，一个变量在多个因子上都有较高载荷！！如Inflight.service"
   ]
  },
  {
   "cell_type": "code",
   "execution_count": 17,
   "id": "ce33668f",
   "metadata": {},
   "outputs": [
    {
     "data": {
      "text/plain": [
       "Factor Analysis using method =  minres\n",
       "Call: fa(r = ds_cor2, nfactors = 3, rotate = \"promax\")\n",
       "Standardized loadings (pattern matrix) based upon correlation matrix\n",
       "                                    MR1   MR3   MR2   h2   u2 com\n",
       "Inflight.wifi.service              0.10  0.06  0.75 0.62 0.38 1.0\n",
       "Departure.Arrival.time.convenient -0.08  0.04  0.51 0.26 0.74 1.1\n",
       "Ease.of.Online.booking            -0.04 -0.04  0.95 0.87 0.13 1.0\n",
       "Gate.location                     -0.07 -0.06  0.52 0.26 0.74 1.1\n",
       "Food.and.drink                     0.80 -0.13 -0.06 0.57 0.43 1.1\n",
       "Online.boarding                    0.37  0.02  0.33 0.30 0.70 2.0\n",
       "Seat.comfort                       0.82 -0.07 -0.04 0.63 0.37 1.0\n",
       "Inflight.entertainment             0.71  0.35 -0.08 0.77 0.23 1.5\n",
       "On.board.service                  -0.03  0.72 -0.02 0.50 0.50 1.0\n",
       "Leg.room.service                  -0.01  0.49  0.05 0.24 0.76 1.0\n",
       "Baggage.handling                  -0.11  0.80 -0.02 0.59 0.41 1.0\n",
       "Checkin.service                    0.10  0.27  0.00 0.10 0.90 1.3\n",
       "Inflight.service                  -0.12  0.84 -0.03 0.64 0.36 1.0\n",
       "Cleanliness                        0.90 -0.07 -0.08 0.74 0.26 1.0\n",
       "\n",
       "                       MR1  MR3  MR2\n",
       "SS loadings           2.74 2.27 2.08\n",
       "Proportion Var        0.20 0.16 0.15\n",
       "Cumulative Var        0.20 0.36 0.51\n",
       "Proportion Explained  0.39 0.32 0.29\n",
       "Cumulative Proportion 0.39 0.71 1.00\n",
       "\n",
       " With factor correlations of \n",
       "     MR1  MR3  MR2\n",
       "MR1 1.00 0.35 0.19\n",
       "MR3 0.35 1.00 0.16\n",
       "MR2 0.19 0.16 1.00\n",
       "\n",
       "Mean item complexity =  1.2\n",
       "Test of the hypothesis that 3 factors are sufficient.\n",
       "\n",
       "df null model =  91  with the objective function =  5.79\n",
       "df of  the model are 52  and the objective function was  0.5 \n",
       "\n",
       "The root mean square of the residuals (RMSR) is  0.04 \n",
       "The df corrected root mean square of the residuals is  0.06 \n",
       "\n",
       "Fit based upon off diagonal values = 0.98\n",
       "Measures of factor score adequacy             \n",
       "                                                   MR1  MR3  MR2\n",
       "Correlation of (regression) scores with factors   0.95 0.92 0.95\n",
       "Multiple R square of scores with factors          0.90 0.85 0.91\n",
       "Minimum correlation of possible factor scores     0.80 0.70 0.82"
      ]
     },
     "metadata": {},
     "output_type": "display_data"
    },
    {
     "data": {
      "image/png": "[encoded data removed]",
      "text/plain": [
       "Plot with title \"Factor Analysis\""
      ]
     },
     "metadata": {
      "image/png": {
       "height": 480,
       "width": 840
      }
     },
     "output_type": "display_data"
    }
   ],
   "source": [
    "# Oblique (promax) rotation \n",
    "options(repr.plot.width = 14, repr.plot.height = 8)\n",
    "ds.fa2 <- fa(ds_cor2, 3,rotate=\"promax\")\n",
    "ds.fa2\n",
    "fa.diagram(ds.fa2)"
   ]
  },
  {
   "cell_type": "markdown",
   "id": "833ba3a8",
   "metadata": {},
   "source": [
    "观察：斜旋转\n",
    "\n",
    "- 因子1和3的相关性为0.35\n",
    "\n",
    "- 因子2与因子1和3的相关性不高\n",
    "\n",
    "- 由于这些因素之间的相关性不高，因此promax不是旋转的理想选择。"
   ]
  },
  {
   "cell_type": "code",
   "execution_count": 18,
   "id": "b7e1154b",
   "metadata": {},
   "outputs": [
    {
     "data": {
      "text/plain": [
       "Factor Analysis using method =  minres\n",
       "Call: fa(r = ds_cor2, nfactors = 3, rotate = \"varimax\")\n",
       "Standardized loadings (pattern matrix) based upon correlation matrix\n",
       "                                    MR1   MR3  MR2   h2   u2 com\n",
       "Inflight.wifi.service              0.17  0.13 0.76 0.62 0.38 1.2\n",
       "Departure.Arrival.time.convenient -0.03  0.06 0.50 0.26 0.74 1.0\n",
       "Ease.of.Online.booking             0.03  0.02 0.93 0.87 0.13 1.0\n",
       "Gate.location                     -0.03 -0.03 0.50 0.26 0.74 1.0\n",
       "Food.and.drink                     0.75  0.01 0.01 0.57 0.43 1.0\n",
       "Online.boarding                    0.40  0.11 0.36 0.30 0.70 2.2\n",
       "Seat.comfort                       0.79  0.08 0.03 0.63 0.37 1.0\n",
       "Inflight.entertainment             0.75  0.47 0.01 0.77 0.23 1.7\n",
       "On.board.service                   0.09  0.70 0.03 0.50 0.50 1.0\n",
       "Leg.room.service                   0.07  0.48 0.08 0.24 0.76 1.1\n",
       "Baggage.handling                   0.02  0.76 0.03 0.59 0.41 1.0\n",
       "Checkin.service                    0.14  0.28 0.03 0.10 0.90 1.5\n",
       "Inflight.service                   0.02  0.80 0.02 0.64 0.36 1.0\n",
       "Cleanliness                        0.86  0.09 0.00 0.74 0.26 1.0\n",
       "\n",
       "                       MR1  MR3  MR2\n",
       "SS loadings           2.71 2.30 2.09\n",
       "Proportion Var        0.19 0.16 0.15\n",
       "Cumulative Var        0.19 0.36 0.51\n",
       "Proportion Explained  0.38 0.32 0.29\n",
       "Cumulative Proportion 0.38 0.71 1.00\n",
       "\n",
       "Mean item complexity =  1.2\n",
       "Test of the hypothesis that 3 factors are sufficient.\n",
       "\n",
       "df null model =  91  with the objective function =  5.79\n",
       "df of  the model are 52  and the objective function was  0.5 \n",
       "\n",
       "The root mean square of the residuals (RMSR) is  0.04 \n",
       "The df corrected root mean square of the residuals is  0.06 \n",
       "\n",
       "Fit based upon off diagonal values = 0.98\n",
       "Measures of factor score adequacy             \n",
       "                                                   MR1  MR3  MR2\n",
       "Correlation of (regression) scores with factors   0.94 0.91 0.95\n",
       "Multiple R square of scores with factors          0.89 0.83 0.91\n",
       "Minimum correlation of possible factor scores     0.77 0.67 0.81"
      ]
     },
     "metadata": {},
     "output_type": "display_data"
    },
    {
     "data": {
      "image/png": "[encoded data removed]",
      "text/plain": [
       "Plot with title \"Factor Analysis\""
      ]
     },
     "metadata": {
      "image/png": {
       "height": 480,
       "width": 840
      }
     },
     "output_type": "display_data"
    }
   ],
   "source": [
    "# Orthogonal (varimax) rotation\n",
    "options(repr.plot.width = 14, repr.plot.height = 8)\n",
    "ds.fa3 <- fa(ds_cor2, 3, rotate = \"varimax\")\n",
    "ds.fa3\n",
    "fa.diagram(ds.fa3)"
   ]
  },
  {
   "cell_type": "markdown",
   "id": "9f84fa6e",
   "metadata": {},
   "source": [
    "观察：正交（varimax）旋转\n",
    "\n",
    "- 每个因子至少加载4个变量-这是保留因子的积极指示\n",
    "\n",
    "- 只有check-in service的服务没有加载到任何因素上\n",
    "\n",
    "- 每个变量对其加载因子的载荷至少为0.3（截止值）。\n",
    "\n",
    "接下来研究下载荷"
   ]
  },
  {
   "cell_type": "code",
   "execution_count": 19,
   "id": "c13776ce",
   "metadata": {},
   "outputs": [
    {
     "name": "stdout",
     "output_type": "stream",
     "text": [
      "\n",
      "Loadings:\n",
      "                                  MR1    MR3    MR2   \n",
      "Inflight.wifi.service                            0.758\n",
      "Departure.Arrival.time.convenient                0.501\n",
      "Ease.of.Online.booking                           0.933\n",
      "Gate.location                                    0.504\n",
      "Food.and.drink                     0.753              \n",
      "Online.boarding                    0.395         0.359\n",
      "Seat.comfort                       0.790              \n",
      "Inflight.entertainment             0.746  0.467       \n",
      "On.board.service                          0.701       \n",
      "Leg.room.service                          0.481       \n",
      "Baggage.handling                          0.765       \n",
      "Checkin.service                                       \n",
      "Inflight.service                          0.800       \n",
      "Cleanliness                        0.858              \n",
      "\n",
      "                 MR1   MR3   MR2\n",
      "SS loadings    2.707 2.295 2.089\n",
      "Proportion Var 0.193 0.164 0.149\n",
      "Cumulative Var 0.193 0.357 0.507\n"
     ]
    }
   ],
   "source": [
    "print(ds.fa3$loadings, cutoff = 0.3)"
   ]
  },
  {
   "cell_type": "markdown",
   "id": "a6490254",
   "metadata": {},
   "source": [
    "- Factor 1: food and drink,seat comfort, inflight entertainment, cleanliness\n",
    "﻿\n",
    "- Factor 2: inflight wifi, departure arrival time convenience, online booking ease, gate location\n",
    "﻿\n",
    "- Factor 3: on board service, leg room service, baggage handling, inflight services\n",
    "\n",
    "在这其中只有Online.boarding贡献度较低，后续可以将其排除"
   ]
  },
  {
   "cell_type": "code",
   "execution_count": 20,
   "id": "20ea75a0",
   "metadata": {},
   "outputs": [
    {
     "name": "stderr",
     "output_type": "stream",
     "text": [
      "Installing package into 'C:/Users/Elvis/AppData/Local/R/win-library/4.3'\n",
      "(as 'lib' is unspecified)\n",
      "\n",
      "also installing the dependencies 'expm', 'admisc', 'msm', 'polycor'\n",
      "\n",
      "\n"
     ]
    },
    {
     "name": "stdout",
     "output_type": "stream",
     "text": [
      "package 'expm' successfully unpacked and MD5 sums checked\n",
      "package 'admisc' successfully unpacked and MD5 sums checked\n",
      "package 'msm' successfully unpacked and MD5 sums checked\n",
      "package 'polycor' successfully unpacked and MD5 sums checked\n",
      "package 'ltm' successfully unpacked and MD5 sums checked\n",
      "\n",
      "The downloaded binary packages are in\n",
      "\tC:\\Users\\Elvis\\AppData\\Local\\Temp\\RtmpyIv4m5\\downloaded_packages\n"
     ]
    },
    {
     "name": "stderr",
     "output_type": "stream",
     "text": [
      "Warning message:\n",
      "\"package 'ltm' was built under R version 4.3.3\"\n",
      "Loading required package: MASS\n",
      "\n",
      "\n",
      "Attaching package: 'MASS'\n",
      "\n",
      "\n",
      "The following object is masked from 'package:dplyr':\n",
      "\n",
      "    select\n",
      "\n",
      "\n",
      "Loading required package: msm\n",
      "\n",
      "Warning message:\n",
      "\"package 'msm' was built under R version 4.3.3\"\n",
      "Loading required package: polycor\n",
      "\n",
      "Warning message:\n",
      "\"package 'polycor' was built under R version 4.3.3\"\n",
      "\n",
      "Attaching package: 'polycor'\n",
      "\n",
      "\n",
      "The following object is masked from 'package:psych':\n",
      "\n",
      "    polyserial\n",
      "\n",
      "\n",
      "\n",
      "Attaching package: 'ltm'\n",
      "\n",
      "\n",
      "The following object is masked from 'package:psych':\n",
      "\n",
      "    factor.scores\n",
      "\n",
      "\n"
     ]
    },
    {
     "data": {
      "text/plain": [
       "\n",
       "Cronbach's alpha for the 'factor1' data-set\n",
       "\n",
       "Items: 4\n",
       "Sample units: 14\n",
       "alpha: 0.954\n"
      ]
     },
     "metadata": {},
     "output_type": "display_data"
    },
    {
     "data": {
      "text/plain": [
       "\n",
       "Cronbach's alpha for the 'factor2' data-set\n",
       "\n",
       "Items: 4\n",
       "Sample units: 14\n",
       "alpha: 0.879\n"
      ]
     },
     "metadata": {},
     "output_type": "display_data"
    },
    {
     "data": {
      "text/plain": [
       "\n",
       "Cronbach's alpha for the 'factor3' data-set\n",
       "\n",
       "Items: 5\n",
       "Sample units: 14\n",
       "alpha: 0.828\n"
      ]
     },
     "metadata": {},
     "output_type": "display_data"
    }
   ],
   "source": [
    "install.packages(\"ltm\")\n",
    "library(ltm)\n",
    "factor1 <- ds_cor2[, c(\"Food.and.drink\", \"Seat.comfort\", \"Inflight.entertainment\", \"Cleanliness\")]\n",
    "factor2 <- ds_cor2[,c(\"Inflight.wifi.service\",\"Departure.Arrival.time.convenient\", \"Ease.of.Online.booking\",\"Gate.location\")]\n",
    "factor3 <- ds_cor2[,c(\"Inflight.entertainment\", \"On.board.service\",\"Leg.room.service\",\"Baggage.handling\",\"Inflight.service\" )]\n",
    "cronbach.alpha(factor1)\n",
    "cronbach.alpha(factor2)\n",
    "cronbach.alpha(factor3)"
   ]
  },
  {
   "cell_type": "markdown",
   "id": "1ab469cc",
   "metadata": {},
   "source": [
    "Cronbach's alpha值用来测量一组变量或测试条内部一致性的统计指标。\n",
    "- 超过0.8认为具有很好的内部一致性，大于0.7是可以接受的\n",
    "\n",
    "- 每个因子都在0.8以上都具有较强的内部稳定性\n",
    "高内部一致性表明因子构造是合理的，可以支持用作后续的研究"
   ]
  },
  {
   "cell_type": "markdown",
   "id": "f0cd5115",
   "metadata": {},
   "source": [
    "Logistic Regression"
   ]
  },
  {
   "cell_type": "code",
   "execution_count": 21,
   "id": "b2b67cd2",
   "metadata": {},
   "outputs": [
    {
     "name": "stderr",
     "output_type": "stream",
     "text": [
      "Warning message:\n",
      "\"package 'MASS' is in use and will not be installed\"\n",
      "Installing packages into 'C:/Users/Elvis/AppData/Local/R/win-library/4.3'\n",
      "(as 'lib' is unspecified)\n",
      "\n",
      "also installing the dependencies 'gtools', 'gplots'\n",
      "\n",
      "\n"
     ]
    },
    {
     "name": "stdout",
     "output_type": "stream",
     "text": [
      "package 'gtools' successfully unpacked and MD5 sums checked\n",
      "package 'gplots' successfully unpacked and MD5 sums checked\n",
      "package 'caret' successfully unpacked and MD5 sums checked\n",
      "package 'broom' successfully unpacked and MD5 sums checked\n",
      "package 'ROCR' successfully unpacked and MD5 sums checked\n",
      "\n",
      "The downloaded binary packages are in\n",
      "\tC:\\Users\\Elvis\\AppData\\Local\\Temp\\RtmpyIv4m5\\downloaded_packages\n"
     ]
    },
    {
     "name": "stderr",
     "output_type": "stream",
     "text": [
      "Warning message:\n",
      "\"package 'ROCR' was built under R version 4.3.3\"\n",
      "Warning message:\n",
      "\"package 'broom' was built under R version 4.3.3\"\n",
      "Warning message:\n",
      "\"package 'caret' was built under R version 4.3.3\"\n",
      "Loading required package: lattice\n",
      "\n",
      "\n",
      "Attaching package: 'caret'\n",
      "\n",
      "\n",
      "The following object is masked from 'package:purrr':\n",
      "\n",
      "    lift\n",
      "\n",
      "\n"
     ]
    }
   ],
   "source": [
    "install.packages(c(\"caret\",\"broom\",\"MASS\",\"ROCR\"))\n",
    "library(MASS)\n",
    "library(ROCR)\n",
    "library(broom)\n",
    "library(caret)"
   ]
  },
  {
   "cell_type": "code",
   "execution_count": 26,
   "id": "8b407be7",
   "metadata": {},
   "outputs": [
    {
     "data": {
      "text/plain": [
       "\n",
       "neutral or dissatisfied               satisfied \n",
       "                  58879                   45025 "
      ]
     },
     "metadata": {},
     "output_type": "display_data"
    },
    {
     "name": "stdout",
     "output_type": "stream",
     "text": [
      "'data.frame':\t103904 obs. of  24 variables:\n",
      " $ id                               : int  70172 5047 110028 24026 119299 111157 82113 96462 79485 65725 ...\n",
      " $ Gender                           : chr  \"Male\" \"Male\" \"Female\" \"Female\" ...\n",
      " $ Customer.Type                    : chr  \"Loyal Customer\" \"disloyal Customer\" \"Loyal Customer\" \"Loyal Customer\" ...\n",
      " $ Age                              : int  13 25 26 25 61 26 47 52 41 20 ...\n",
      " $ Type.of.Travel                   : chr  \"Personal Travel\" \"Business travel\" \"Business travel\" \"Business travel\" ...\n",
      " $ Class                            : chr  \"Eco Plus\" \"Business\" \"Business\" \"Business\" ...\n",
      " $ Flight.Distance                  : int  460 235 1142 562 214 1180 1276 2035 853 1061 ...\n",
      " $ Inflight.wifi.service            : int  3 3 2 2 3 3 2 4 1 3 ...\n",
      " $ Departure.Arrival.time.convenient: int  4 2 2 5 3 4 4 3 2 3 ...\n",
      " $ Ease.of.Online.booking           : int  3 3 2 5 3 2 2 4 2 3 ...\n",
      " $ Gate.location                    : int  1 3 2 5 3 1 3 4 2 4 ...\n",
      " $ Food.and.drink                   : int  5 1 5 2 4 1 2 5 4 2 ...\n",
      " $ Online.boarding                  : int  3 3 5 2 5 2 2 5 3 3 ...\n",
      " $ Seat.comfort                     : int  5 1 5 2 5 1 2 5 3 3 ...\n",
      " $ Inflight.entertainment           : int  5 1 5 2 3 1 2 5 1 2 ...\n",
      " $ On.board.service                 : int  4 1 4 2 3 3 3 5 1 2 ...\n",
      " $ Leg.room.service                 : int  3 5 3 5 4 4 3 5 2 3 ...\n",
      " $ Baggage.handling                 : int  4 3 4 3 4 4 4 5 1 4 ...\n",
      " $ Checkin.service                  : int  4 1 4 1 3 4 3 4 4 4 ...\n",
      " $ Inflight.service                 : int  5 4 4 4 3 4 5 5 1 3 ...\n",
      " $ Cleanliness                      : int  5 1 5 2 3 1 2 4 2 2 ...\n",
      " $ Departure.Delay.in.Minutes       : num  25 1 0 11 0 0 9 4 0 0 ...\n",
      " $ Arrival.Delay.in.Minutes         : num  18 6 0 9 0 0 23 0 0 0 ...\n",
      " $ satisfaction                     : chr  \"neutral or dissatisfied\" \"neutral or dissatisfied\" \"satisfied\" \"neutral or dissatisfied\" ...\n"
     ]
    }
   ],
   "source": [
    "table(ds$satisfaction)\n",
    "str(ds)"
   ]
  },
  {
   "cell_type": "code",
   "execution_count": 30,
   "id": "dc538693",
   "metadata": {},
   "outputs": [
    {
     "name": "stdout",
     "output_type": "stream",
     "text": [
      "'data.frame':\t103904 obs. of  23 variables:\n",
      " $ Gender                           : Factor w/ 2 levels \"Female\",\"Male\": 2 2 1 1 2 1 2 1 1 2 ...\n",
      " $ Customer.Type                    : Factor w/ 2 levels \"disloyal Customer\",..: 2 1 2 2 2 2 2 2 2 1 ...\n",
      " $ Age                              : int  13 25 26 25 61 26 47 52 41 20 ...\n",
      " $ Type.of.Travel                   : Factor w/ 2 levels \"Business travel\",..: 2 1 1 1 1 2 2 1 1 1 ...\n",
      " $ Class                            : Factor w/ 3 levels \"Business\",\"Eco\",..: 3 1 1 1 1 2 2 1 1 2 ...\n",
      " $ Flight.Distance                  : int  460 235 1142 562 214 1180 1276 2035 853 1061 ...\n",
      " $ Inflight.wifi.service            : Factor w/ 6 levels \"0\",\"1\",\"2\",\"3\",..: 4 4 3 3 4 4 3 5 2 4 ...\n",
      " $ Departure.Arrival.time.convenient: Factor w/ 6 levels \"0\",\"1\",\"2\",\"3\",..: 5 3 3 6 4 5 5 4 3 4 ...\n",
      " $ Ease.of.Online.booking           : Factor w/ 6 levels \"0\",\"1\",\"2\",\"3\",..: 4 4 3 6 4 3 3 5 3 4 ...\n",
      " $ Gate.location                    : Factor w/ 6 levels \"0\",\"1\",\"2\",\"3\",..: 2 4 3 6 4 2 4 5 3 5 ...\n",
      " $ Food.and.drink                   : Factor w/ 6 levels \"0\",\"1\",\"2\",\"3\",..: 6 2 6 3 5 2 3 6 5 3 ...\n",
      " $ Online.boarding                  : Factor w/ 6 levels \"0\",\"1\",\"2\",\"3\",..: 4 4 6 3 6 3 3 6 4 4 ...\n",
      " $ Seat.comfort                     : Factor w/ 6 levels \"0\",\"1\",\"2\",\"3\",..: 6 2 6 3 6 2 3 6 4 4 ...\n",
      " $ Inflight.entertainment           : Factor w/ 6 levels \"0\",\"1\",\"2\",\"3\",..: 6 2 6 3 4 2 3 6 2 3 ...\n",
      " $ On.board.service                 : Factor w/ 6 levels \"0\",\"1\",\"2\",\"3\",..: 5 2 5 3 4 4 4 6 2 3 ...\n",
      " $ Leg.room.service                 : Factor w/ 6 levels \"0\",\"1\",\"2\",\"3\",..: 4 6 4 6 5 5 4 6 3 4 ...\n",
      " $ Baggage.handling                 : Factor w/ 5 levels \"1\",\"2\",\"3\",\"4\",..: 4 3 4 3 4 4 4 5 1 4 ...\n",
      " $ Checkin.service                  : Factor w/ 6 levels \"0\",\"1\",\"2\",\"3\",..: 5 2 5 2 4 5 4 5 5 5 ...\n",
      " $ Inflight.service                 : Factor w/ 6 levels \"0\",\"1\",\"2\",\"3\",..: 6 5 5 5 4 5 6 6 2 4 ...\n",
      " $ Cleanliness                      : Factor w/ 6 levels \"0\",\"1\",\"2\",\"3\",..: 6 2 6 3 4 2 3 5 3 3 ...\n",
      " $ Departure.Delay.in.Minutes       : num  25 1 0 11 0 0 9 4 0 0 ...\n",
      " $ Arrival.Delay.in.Minutes         : num  18 6 0 9 0 0 23 0 0 0 ...\n",
      " $ satisfaction                     : Factor w/ 2 levels \"0\",\"1\": 1 1 2 1 2 1 1 2 1 1 ...\n"
     ]
    }
   ],
   "source": [
    "ds <- read.csv(\"train.csv\")\n",
    "ds <- subset(ds, select=-c(id,X))\n",
    "ds$Departure.Delay.in.Minutes = as.numeric(ds$Departure.Delay.in.Minutes)\n",
    "ds$Arrival.Delay.in.Minutes[is.na(ds$Arrival.Delay.in.Minutes)] <-0\n",
    "\n",
    "ds$satisfaction <- ifelse(ds$satisfaction==\"satisfied\",1,0)\n",
    "ds$satisfaction <- factor(ds$satisfaction, levels = c(0, 1))\n",
    "\n",
    "ds$Gender <- as.factor(ds$Gender)\n",
    "ds$Customer.Type <- as.factor(ds$Customer.Type)\n",
    "ds$Type.of.Travel <- as.factor(ds$Type.of.Travel)\n",
    "ds$Class <- as.factor(ds$Class)\n",
    "ds$Inflight.wifi.service <- as.factor(ds$Inflight.wifi.service)\n",
    "ds$Departure.Arrival.time.convenient <- as.factor(ds$Departure.Arrival.time.convenient)\n",
    "ds$Ease.of.Online.booking <- as.factor(ds$Ease.of.Online.booking)\n",
    "ds$Gate.location <- as.factor(ds$Gate.location)\n",
    "ds$Food.and.drink <- as.factor(ds$Food.and.drink)\n",
    "ds$Online.boarding <- as.factor(ds$Online.boarding)\n",
    "ds$Seat.comfort <- as.factor(ds$Seat.comfort)\n",
    "ds$Leg.room.service <- as.factor(ds$Leg.room.service)\n",
    "ds$Inflight.entertainment <- as.factor(ds$Inflight.entertainment)\n",
    "ds$On.board.service <- as.factor(ds$On.board.service)\n",
    "ds$Checkin.service <- as.factor(ds$Checkin.service)\n",
    "ds$Inflight.service <- as.factor(ds$Inflight.service)\n",
    "ds$Cleanliness <- as.factor(ds$Cleanliness)\n",
    "ds$Baggage.handling <- as.factor(ds$Baggage.handling)\n",
    "  \n",
    "str(ds)"
   ]
  },
  {
   "cell_type": "code",
   "execution_count": 31,
   "id": "9fdcfc3e",
   "metadata": {},
   "outputs": [
    {
     "name": "stderr",
     "output_type": "stream",
     "text": [
      "Warning message:\n",
      "\"glm.fit: fitted probabilities numerically 0 or 1 occurred\"\n"
     ]
    },
    {
     "data": {
      "text/plain": [
       "\n",
       "Call:\n",
       "glm(formula = satisfaction ~ Gender + Customer.Type + Age + Type.of.Travel + \n",
       "    Class + Flight.Distance + Inflight.wifi.service + Departure.Arrival.time.convenient + \n",
       "    Ease.of.Online.booking + Gate.location + Food.and.drink + \n",
       "    Online.boarding + Seat.comfort + Inflight.entertainment + \n",
       "    On.board.service + Leg.room.service + Baggage.handling + \n",
       "    Checkin.service + Inflight.service + Cleanliness + Departure.Delay.in.Minutes + \n",
       "    Arrival.Delay.in.Minutes, family = \"binomial\", data = ds)\n",
       "\n",
       "Coefficients: (3 not defined because of singularities)\n",
       "                                     Estimate Std. Error z value Pr(>|z|)    \n",
       "(Intercept)                         6.153e+00  9.961e+03   0.001 0.999507    \n",
       "GenderMale                          4.650e-02  2.730e-02   1.703 0.088498 .  \n",
       "Customer.TypeLoyal Customer         3.354e+00  4.953e-02  67.718  < 2e-16 ***\n",
       "Age                                -2.311e-03  1.017e-03  -2.273 0.023034 *  \n",
       "Type.of.TravelPersonal Travel      -4.273e+00  5.507e-02 -77.587  < 2e-16 ***\n",
       "ClassEco                           -6.297e-01  3.720e-02 -16.927  < 2e-16 ***\n",
       "ClassEco Plus                      -8.369e-01  6.048e-02 -13.836  < 2e-16 ***\n",
       "Flight.Distance                     7.201e-06  1.535e-05   0.469 0.639016    \n",
       "Inflight.wifi.service1             -2.402e+01  8.868e+01  -0.271 0.786537    \n",
       "Inflight.wifi.service2             -2.427e+01  8.868e+01  -0.274 0.784328    \n",
       "Inflight.wifi.service3             -2.432e+01  8.868e+01  -0.274 0.783935    \n",
       "Inflight.wifi.service4             -2.276e+01  8.868e+01  -0.257 0.797414    \n",
       "Inflight.wifi.service5             -1.720e+01  8.868e+01  -0.194 0.846240    \n",
       "Departure.Arrival.time.convenient1  3.142e-01  9.296e-02   3.380 0.000724 ***\n",
       "Departure.Arrival.time.convenient2  4.301e-01  8.959e-02   4.801 1.58e-06 ***\n",
       "Departure.Arrival.time.convenient3  2.414e-01  8.631e-02   2.797 0.005158 ** \n",
       "Departure.Arrival.time.convenient4 -6.775e-01  7.733e-02  -8.761  < 2e-16 ***\n",
       "Departure.Arrival.time.convenient5 -9.129e-01  8.491e-02 -10.751  < 2e-16 ***\n",
       "Ease.of.Online.booking1             3.063e+00  9.138e-01   3.352 0.000802 ***\n",
       "Ease.of.Online.booking2             2.995e+00  9.138e-01   3.277 0.001049 ** \n",
       "Ease.of.Online.booking3             3.494e+00  9.136e-01   3.825 0.000131 ***\n",
       "Ease.of.Online.booking4             4.340e+00  9.133e-01   4.752 2.02e-06 ***\n",
       "Ease.of.Online.booking5             3.709e+00  9.137e-01   4.059 4.93e-05 ***\n",
       "Gate.location1                     -1.876e+01  6.523e+03  -0.003 0.997705    \n",
       "Gate.location2                     -1.868e+01  6.523e+03  -0.003 0.997715    \n",
       "Gate.location3                     -1.885e+01  6.523e+03  -0.003 0.997694    \n",
       "Gate.location4                     -1.910e+01  6.523e+03  -0.003 0.997663    \n",
       "Gate.location5                     -1.931e+01  6.523e+03  -0.003 0.997638    \n",
       "Food.and.drink1                    -3.285e-01  1.744e+00  -0.188 0.850614    \n",
       "Food.and.drink2                    -4.686e-02  1.744e+00  -0.027 0.978566    \n",
       "Food.and.drink3                    -1.766e-01  1.744e+00  -0.101 0.919355    \n",
       "Food.and.drink4                    -1.325e-01  1.744e+00  -0.076 0.939458    \n",
       "Food.and.drink5                    -2.872e-01  1.744e+00  -0.165 0.869221    \n",
       "Online.boarding1                   -3.623e+00  9.174e-01  -3.949 7.84e-05 ***\n",
       "Online.boarding2                   -3.543e+00  9.173e-01  -3.863 0.000112 ***\n",
       "Online.boarding3                   -3.774e+00  9.170e-01  -4.116 3.86e-05 ***\n",
       "Online.boarding4                   -2.127e+00  9.167e-01  -2.321 0.020290 *  \n",
       "Online.boarding5                   -8.783e-01  9.169e-01  -0.958 0.338106    \n",
       "Seat.comfort1                       2.048e+01  6.523e+03   0.003 0.997495    \n",
       "Seat.comfort2                       1.995e+01  6.523e+03   0.003 0.997560    \n",
       "Seat.comfort3                       1.889e+01  6.523e+03   0.003 0.997689    \n",
       "Seat.comfort4                       1.960e+01  6.523e+03   0.003 0.997603    \n",
       "Seat.comfort5                       2.044e+01  6.523e+03   0.003 0.997500    \n",
       "Inflight.entertainment1             3.970e+01  1.515e+03   0.026 0.979101    \n",
       "Inflight.entertainment2             4.045e+01  1.515e+03   0.027 0.978704    \n",
       "Inflight.entertainment3             4.129e+01  1.515e+03   0.027 0.978265    \n",
       "Inflight.entertainment4             4.096e+01  1.515e+03   0.027 0.978438    \n",
       "Inflight.entertainment5             4.020e+01  1.515e+03   0.027 0.978839    \n",
       "On.board.service1                  -2.335e+01  4.051e+03  -0.006 0.995402    \n",
       "On.board.service2                  -2.320e+01  4.051e+03  -0.006 0.995431    \n",
       "On.board.service3                  -2.267e+01  4.051e+03  -0.006 0.995536    \n",
       "On.board.service4                  -2.258e+01  4.051e+03  -0.006 0.995553    \n",
       "On.board.service5                  -2.205e+01  4.051e+03  -0.005 0.995658    \n",
       "Leg.room.service1                  -2.398e+00  9.579e-01  -2.503 0.012310 *  \n",
       "Leg.room.service2                  -2.124e+00  9.574e-01  -2.219 0.026479 *  \n",
       "Leg.room.service3                  -2.241e+00  9.572e-01  -2.341 0.019209 *  \n",
       "Leg.room.service4                  -1.543e+00  9.573e-01  -1.611 0.107091    \n",
       "Leg.room.service5                  -1.381e+00  9.571e-01  -1.443 0.149060    \n",
       "Baggage.handling2                  -2.194e-01  7.601e-02  -2.887 0.003892 ** \n",
       "Baggage.handling3                  -8.445e-01  7.099e-02 -11.895  < 2e-16 ***\n",
       "Baggage.handling4                  -2.463e-01  6.902e-02  -3.569 0.000358 ***\n",
       "Baggage.handling5                   5.151e-01  7.336e-02   7.021 2.20e-12 ***\n",
       "Checkin.service1                   -1.425e+00  5.429e-02 -26.258  < 2e-16 ***\n",
       "Checkin.service2                   -1.235e+00  5.401e-02 -22.857  < 2e-16 ***\n",
       "Checkin.service3                   -7.263e-01  4.346e-02 -16.713  < 2e-16 ***\n",
       "Checkin.service4                   -7.455e-01  4.324e-02 -17.241  < 2e-16 ***\n",
       "Checkin.service5                           NA         NA      NA       NA    \n",
       "Inflight.service1                  -4.822e-01  7.645e-02  -6.307 2.84e-10 ***\n",
       "Inflight.service2                  -7.016e-01  6.933e-02 -10.120  < 2e-16 ***\n",
       "Inflight.service3                  -1.394e+00  5.729e-02 -24.331  < 2e-16 ***\n",
       "Inflight.service4                  -6.946e-01  4.493e-02 -15.458  < 2e-16 ***\n",
       "Inflight.service5                          NA         NA      NA       NA    \n",
       "Cleanliness1                       -9.970e-01  7.512e-02 -13.272  < 2e-16 ***\n",
       "Cleanliness2                       -9.541e-01  7.303e-02 -13.064  < 2e-16 ***\n",
       "Cleanliness3                       -4.689e-01  6.144e-02  -7.632 2.31e-14 ***\n",
       "Cleanliness4                       -6.023e-01  6.021e-02 -10.004  < 2e-16 ***\n",
       "Cleanliness5                               NA         NA      NA       NA    \n",
       "Departure.Delay.in.Minutes          4.345e-03  1.249e-03   3.478 0.000505 ***\n",
       "Arrival.Delay.in.Minutes           -8.231e-03  1.235e-03  -6.666 2.62e-11 ***\n",
       "---\n",
       "Signif. codes:  0 '***' 0.001 '**' 0.01 '*' 0.05 '.' 0.1 ' ' 1\n",
       "\n",
       "(Dispersion parameter for binomial family taken to be 1)\n",
       "\n",
       "    Null deviance: 142189  on 103903  degrees of freedom\n",
       "Residual deviance:  37004  on 103828  degrees of freedom\n",
       "AIC: 37156\n",
       "\n",
       "Number of Fisher Scoring iterations: 17\n"
      ]
     },
     "metadata": {},
     "output_type": "display_data"
    }
   ],
   "source": [
    "set.seed(123)\n",
    "model1 <- glm(satisfaction ~ Gender + Customer.Type + Age + \n",
    "                 \n",
    "                 Type.of.Travel + Class + Flight.Distance + Inflight.wifi.service +\n",
    "                \n",
    "                 Departure.Arrival.time.convenient + Ease.of.Online.booking + \n",
    "                 Gate.location + Food.and.drink + Online.boarding + Seat.comfort +\n",
    "                 Inflight.entertainment + On.board.service + Leg.room.service +\n",
    "                 Baggage.handling + Checkin.service + Inflight.service +\n",
    "                 Cleanliness \n",
    "               + Departure.Delay.in.Minutes + Arrival.Delay.in.Minutes , \n",
    "               data = ds, family = \"binomial\")\n",
    "summary(model1)"
   ]
  },
  {
   "cell_type": "markdown",
   "id": "5e598425",
   "metadata": {},
   "source": [
    "gender, flight distance, inflight wifi service, gate location, food and drinks, seat comfort, inflight entertainment, onboard services, legroom service\n",
    "这些变量在模型1里并不显著\n",
    "- 可能是因为这些变量之间缺乏强关系"
   ]
  },
  {
   "cell_type": "code",
   "execution_count": 32,
   "id": "e5f9c1ea",
   "metadata": {},
   "outputs": [
    {
     "data": {
      "text/plain": [
       "\n",
       "Call:\n",
       "glm(formula = satisfaction ~ Customer.Type + Age + Type.of.Travel + \n",
       "    Class + Departure.Arrival.time.convenient + Ease.of.Online.booking + \n",
       "    Online.boarding + Seat.comfort + Inflight.entertainment + \n",
       "    On.board.service + Leg.room.service + Baggage.handling + \n",
       "    Checkin.service + Inflight.service + Cleanliness + Departure.Delay.in.Minutes + \n",
       "    Arrival.Delay.in.Minutes, family = \"binomial\", data = ds)\n",
       "\n",
       "Coefficients: (3 not defined because of singularities)\n",
       "                                     Estimate Std. Error z value Pr(>|z|)    \n",
       "(Intercept)                        -2.648e+01  3.657e+02  -0.072   0.9423    \n",
       "Customer.TypeLoyal Customer         2.610e+00  3.753e-02  69.546  < 2e-16 ***\n",
       "Age                                -6.129e-03  8.406e-04  -7.291 3.09e-13 ***\n",
       "Type.of.TravelPersonal Travel      -3.615e+00  4.080e-02 -88.604  < 2e-16 ***\n",
       "ClassEco                           -5.276e-01  2.829e-02 -18.649  < 2e-16 ***\n",
       "ClassEco Plus                      -7.102e-01  4.660e-02 -15.241  < 2e-16 ***\n",
       "Departure.Arrival.time.convenient1  5.155e-01  6.972e-02   7.394 1.43e-13 ***\n",
       "Departure.Arrival.time.convenient2  7.332e-01  6.736e-02  10.886  < 2e-16 ***\n",
       "Departure.Arrival.time.convenient3  4.850e-01  6.513e-02   7.447 9.56e-14 ***\n",
       "Departure.Arrival.time.convenient4 -4.014e-01  5.840e-02  -6.872 6.32e-12 ***\n",
       "Departure.Arrival.time.convenient5 -6.631e-01  6.115e-02 -10.844  < 2e-16 ***\n",
       "Ease.of.Online.booking1            -3.564e+00  1.245e-01 -28.632  < 2e-16 ***\n",
       "Ease.of.Online.booking2            -3.905e+00  1.232e-01 -31.695  < 2e-16 ***\n",
       "Ease.of.Online.booking3            -3.559e+00  1.216e-01 -29.256  < 2e-16 ***\n",
       "Ease.of.Online.booking4            -2.271e+00  1.189e-01 -19.101  < 2e-16 ***\n",
       "Ease.of.Online.booking5            -1.719e+00  1.192e-01 -14.418  < 2e-16 ***\n",
       "Online.boarding1                   -7.797e-01  1.283e-01  -6.077 1.22e-09 ***\n",
       "Online.boarding2                   -8.683e-01  1.280e-01  -6.782 1.19e-11 ***\n",
       "Online.boarding3                   -9.024e-01  1.267e-01  -7.122 1.06e-12 ***\n",
       "Online.boarding4                    1.089e+00  1.260e-01   8.647  < 2e-16 ***\n",
       "Online.boarding5                    2.903e+00  1.284e-01  22.618  < 2e-16 ***\n",
       "Seat.comfort1                       1.520e+01  3.247e+02   0.047   0.9627    \n",
       "Seat.comfort2                       1.478e+01  3.247e+02   0.046   0.9637    \n",
       "Seat.comfort3                       1.372e+01  3.247e+02   0.042   0.9663    \n",
       "Seat.comfort4                       1.433e+01  3.247e+02   0.044   0.9648    \n",
       "Seat.comfort5                       1.496e+01  3.247e+02   0.046   0.9633    \n",
       "Inflight.entertainment1             1.111e+01  9.239e+01   0.120   0.9043    \n",
       "Inflight.entertainment2             1.174e+01  9.239e+01   0.127   0.8989    \n",
       "Inflight.entertainment3             1.254e+01  9.239e+01   0.136   0.8920    \n",
       "Inflight.entertainment4             1.263e+01  9.239e+01   0.137   0.8912    \n",
       "Inflight.entertainment5             1.193e+01  9.239e+01   0.129   0.8972    \n",
       "On.board.service1                   8.535e-01  1.919e+02   0.004   0.9965    \n",
       "On.board.service2                   9.471e-01  1.919e+02   0.005   0.9961    \n",
       "On.board.service3                   1.400e+00  1.919e+02   0.007   0.9942    \n",
       "On.board.service4                   1.518e+00  1.919e+02   0.008   0.9937    \n",
       "On.board.service5                   1.948e+00  1.919e+02   0.010   0.9919    \n",
       "Leg.room.service1                   8.371e-01  1.751e-01   4.781 1.74e-06 ***\n",
       "Leg.room.service2                   1.105e+00  1.737e-01   6.364 1.97e-10 ***\n",
       "Leg.room.service3                   9.754e-01  1.736e-01   5.618 1.94e-08 ***\n",
       "Leg.room.service4                   1.792e+00  1.738e-01  10.310  < 2e-16 ***\n",
       "Leg.room.service5                   1.993e+00  1.743e-01  11.430  < 2e-16 ***\n",
       "Baggage.handling2                  -2.589e-01  6.231e-02  -4.154 3.26e-05 ***\n",
       "Baggage.handling3                  -7.519e-01  5.799e-02 -12.966  < 2e-16 ***\n",
       "Baggage.handling4                  -1.384e-01  5.657e-02  -2.446   0.0144 *  \n",
       "Baggage.handling5                   5.189e-01  6.010e-02   8.634  < 2e-16 ***\n",
       "Checkin.service1                   -1.145e+00  4.515e-02 -25.361  < 2e-16 ***\n",
       "Checkin.service2                   -9.847e-01  4.488e-02 -21.941  < 2e-16 ***\n",
       "Checkin.service3                   -5.575e-01  3.628e-02 -15.366  < 2e-16 ***\n",
       "Checkin.service4                   -5.807e-01  3.608e-02 -16.096  < 2e-16 ***\n",
       "Checkin.service5                           NA         NA      NA       NA    \n",
       "Inflight.service1                  -3.149e-01  6.270e-02  -5.023 5.08e-07 ***\n",
       "Inflight.service2                  -5.852e-01  5.703e-02 -10.261  < 2e-16 ***\n",
       "Inflight.service3                  -1.234e+00  4.672e-02 -26.420  < 2e-16 ***\n",
       "Inflight.service4                  -5.964e-01  3.675e-02 -16.227  < 2e-16 ***\n",
       "Inflight.service5                          NA         NA      NA       NA    \n",
       "Cleanliness1                       -6.790e-01  6.217e-02 -10.921  < 2e-16 ***\n",
       "Cleanliness2                       -5.830e-01  6.089e-02  -9.574  < 2e-16 ***\n",
       "Cleanliness3                       -3.249e-01  5.123e-02  -6.342 2.27e-10 ***\n",
       "Cleanliness4                       -4.193e-01  4.962e-02  -8.450  < 2e-16 ***\n",
       "Cleanliness5                               NA         NA      NA       NA    \n",
       "Departure.Delay.in.Minutes          4.772e-03  1.083e-03   4.406 1.05e-05 ***\n",
       "Arrival.Delay.in.Minutes           -9.210e-03  1.072e-03  -8.594  < 2e-16 ***\n",
       "---\n",
       "Signif. codes:  0 '***' 0.001 '**' 0.01 '*' 0.05 '.' 0.1 ' ' 1\n",
       "\n",
       "(Dispersion parameter for binomial family taken to be 1)\n",
       "\n",
       "    Null deviance: 142189  on 103903  degrees of freedom\n",
       "Residual deviance:  50288  on 103845  degrees of freedom\n",
       "AIC: 50406\n",
       "\n",
       "Number of Fisher Scoring iterations: 11\n"
      ]
     },
     "metadata": {},
     "output_type": "display_data"
    }
   ],
   "source": [
    "set.seed(123)\n",
    "model2 <- glm(satisfaction ~ Customer.Type + Age + \n",
    "                 \n",
    "                 Type.of.Travel + Class +\n",
    "                 Departure.Arrival.time.convenient + Ease.of.Online.booking + \n",
    "                 Online.boarding + Seat.comfort +\n",
    "                 Inflight.entertainment + On.board.service + Leg.room.service +\n",
    "                 Baggage.handling + Checkin.service + Inflight.service +Cleanliness +\n",
    "                 Departure.Delay.in.Minutes + Arrival.Delay.in.Minutes , \n",
    "               data = ds, family = \"binomial\")\n",
    "summary(model2)"
   ]
  },
  {
   "cell_type": "markdown",
   "id": "b85431ce",
   "metadata": {},
   "source": [
    "模型1的AIC为50406，高于模型1。因此，我们将继续使用模型1进行预测。\n",
    "为了证明，我们采用ANOVA test来去证明"
   ]
  },
  {
   "cell_type": "code",
   "execution_count": 33,
   "id": "badd544f",
   "metadata": {},
   "outputs": [
    {
     "data": {
      "text/html": [
       "<table class=\"dataframe\">\n",
       "<caption>A anova: 2 × 5</caption>\n",
       "<thead>\n",
       "\t<tr><th></th><th scope=col>Resid. Df</th><th scope=col>Resid. Dev</th><th scope=col>Df</th><th scope=col>Deviance</th><th scope=col>Pr(&gt;Chi)</th></tr>\n",
       "\t<tr><th></th><th scope=col>&lt;dbl&gt;</th><th scope=col>&lt;dbl&gt;</th><th scope=col>&lt;dbl&gt;</th><th scope=col>&lt;dbl&gt;</th><th scope=col>&lt;dbl&gt;</th></tr>\n",
       "</thead>\n",
       "<tbody>\n",
       "\t<tr><th scope=row>1</th><td>103828</td><td>37004.13</td><td> NA</td><td>       NA</td><td>NA</td></tr>\n",
       "\t<tr><th scope=row>2</th><td>103845</td><td>50288.10</td><td>-17</td><td>-13283.97</td><td> 0</td></tr>\n",
       "</tbody>\n",
       "</table>\n"
      ],
      "text/latex": [
       "A anova: 2 × 5\n",
       "\\begin{tabular}{r|lllll}\n",
       "  & Resid. Df & Resid. Dev & Df & Deviance & Pr(>Chi)\\\\\n",
       "  & <dbl> & <dbl> & <dbl> & <dbl> & <dbl>\\\\\n",
       "\\hline\n",
       "\t1 & 103828 & 37004.13 &  NA &        NA & NA\\\\\n",
       "\t2 & 103845 & 50288.10 & -17 & -13283.97 &  0\\\\\n",
       "\\end{tabular}\n"
      ],
      "text/markdown": [
       "\n",
       "A anova: 2 × 5\n",
       "\n",
       "| <!--/--> | Resid. Df &lt;dbl&gt; | Resid. Dev &lt;dbl&gt; | Df &lt;dbl&gt; | Deviance &lt;dbl&gt; | Pr(&gt;Chi) &lt;dbl&gt; |\n",
       "|---|---|---|---|---|---|\n",
       "| 1 | 103828 | 37004.13 |  NA |        NA | NA |\n",
       "| 2 | 103845 | 50288.10 | -17 | -13283.97 |  0 |\n",
       "\n"
      ],
      "text/plain": [
       "  Resid. Df Resid. Dev Df  Deviance  Pr(>Chi)\n",
       "1 103828    37004.13    NA        NA NA      \n",
       "2 103845    50288.10   -17 -13283.97  0      "
      ]
     },
     "metadata": {},
     "output_type": "display_data"
    }
   ],
   "source": [
    "anova(model1, model2, test=\"Chisq\")"
   ]
  },
  {
   "cell_type": "markdown",
   "id": "481bef41",
   "metadata": {},
   "source": [
    "p值<0.05，所以模型1被确认为比模型2更好"
   ]
  },
  {
   "cell_type": "markdown",
   "id": "c25979c0",
   "metadata": {},
   "source": [
    "# prediction"
   ]
  },
  {
   "cell_type": "code",
   "execution_count": 36,
   "id": "1806121d",
   "metadata": {},
   "outputs": [
    {
     "name": "stdout",
     "output_type": "stream",
     "text": [
      "'data.frame':\t25976 obs. of  23 variables:\n",
      " $ Gender                           : Factor w/ 2 levels \"Female\",\"Male\": 1 1 2 2 1 2 1 1 2 1 ...\n",
      " $ Customer.Type                    : Factor w/ 2 levels \"disloyal Customer\",..: 2 2 1 2 2 2 2 2 2 2 ...\n",
      " $ Age                              : int  52 36 20 44 49 16 77 43 47 46 ...\n",
      " $ Type.of.Travel                   : Factor w/ 2 levels \"Business travel\",..: 1 1 1 1 1 1 1 1 1 1 ...\n",
      " $ Class                            : Factor w/ 3 levels \"Business\",\"Eco\",..: 2 1 2 1 2 2 1 1 2 1 ...\n",
      " $ Flight.Distance                  : int  160 2863 192 3377 1182 311 3987 2556 556 1744 ...\n",
      " $ Inflight.wifi.service            : Factor w/ 6 levels \"0\",\"1\",\"2\",\"3\",..: 6 2 3 1 3 4 6 3 6 3 ...\n",
      " $ Departure.Arrival.time.convenient: Factor w/ 6 levels \"0\",\"1\",\"2\",\"3\",..: 5 2 1 1 4 4 6 3 3 3 ...\n",
      " $ Ease.of.Online.booking           : Factor w/ 6 levels \"0\",\"1\",\"2\",\"3\",..: 4 4 3 1 5 4 6 3 3 3 ...\n",
      " $ Gate.location                    : Factor w/ 5 levels \"1\",\"2\",\"3\",\"4\",..: 4 1 4 2 3 3 5 2 2 2 ...\n",
      " $ Food.and.drink                   : Factor w/ 6 levels \"0\",\"1\",\"2\",\"3\",..: 4 6 3 4 5 6 4 5 6 4 ...\n",
      " $ Online.boarding                  : Factor w/ 6 levels \"0\",\"1\",\"2\",\"3\",..: 5 5 3 5 2 6 6 5 6 5 ...\n",
      " $ Seat.comfort                     : Factor w/ 5 levels \"1\",\"2\",\"3\",\"4\",..: 3 5 2 4 2 3 5 5 5 4 ...\n",
      " $ Inflight.entertainment           : Factor w/ 6 levels \"0\",\"1\",\"2\",\"3\",..: 6 5 3 2 3 6 6 5 6 5 ...\n",
      " $ On.board.service                 : Factor w/ 6 levels \"0\",\"1\",\"2\",\"3\",..: 6 5 5 2 3 5 6 5 3 5 ...\n",
      " $ Leg.room.service                 : Factor w/ 6 levels \"0\",\"1\",\"2\",\"3\",..: 6 5 2 2 3 4 6 5 3 5 ...\n",
      " $ Baggage.handling                 : Factor w/ 5 levels \"1\",\"2\",\"3\",\"4\",..: 5 4 3 1 2 1 5 4 5 4 ...\n",
      " $ Checkin.service                  : Factor w/ 5 levels \"1\",\"2\",\"3\",\"4\",..: 2 3 2 3 4 1 4 5 3 5 ...\n",
      " $ Inflight.service                 : Factor w/ 6 levels \"0\",\"1\",\"2\",\"3\",..: 6 5 3 2 3 3 6 5 4 5 ...\n",
      " $ Cleanliness                      : Factor w/ 6 levels \"0\",\"1\",\"2\",\"3\",..: 6 6 3 5 5 6 4 4 6 5 ...\n",
      " $ Departure.Delay.in.Minutes       : num  50 0 0 0 0 0 0 77 1 28 ...\n",
      " $ Arrival.Delay.in.Minutes         : num  44 0 0 6 20 0 0 65 0 14 ...\n",
      " $ satisfaction                     : Factor w/ 2 levels \"0\",\"1\": 2 2 1 2 2 2 2 2 2 2 ...\n"
     ]
    }
   ],
   "source": [
    "ds_test <- read.csv(\"test.csv\")\n",
    "\n",
    "ds_test <- subset(ds_test, select=-c(id,X))\n",
    "ds_test$Departure.Delay.in.Minutes = as.numeric(ds_test$Departure.Delay.in.Minutes)\n",
    "ds_test$Arrival.Delay.in.Minutes[is.na(ds_test$Arrival.Delay.in.Minutes)] <-0\n",
    "\n",
    "ds_test$satisfaction <- ifelse(ds_test$satisfaction==\"satisfied\",1,0)\n",
    "ds_test$satisfaction <- factor(ds_test$satisfaction, levels = c(0, 1))\n",
    "\n",
    "ds_test$Gender <- as.factor(ds_test$Gender)\n",
    "ds_test$Customer.Type <- as.factor(ds_test$Customer.Type)\n",
    "ds_test$Type.of.Travel <- as.factor(ds_test$Type.of.Travel)\n",
    "ds_test$Class <- as.factor(ds_test$Class)\n",
    "ds_test$Inflight.wifi.service <- as.factor(ds_test$Inflight.wifi.service)\n",
    "ds_test$Departure.Arrival.time.convenient <- as.factor(ds_test$Departure.Arrival.time.convenient)\n",
    "ds_test$Ease.of.Online.booking <- as.factor(ds_test$Ease.of.Online.booking)\n",
    "ds_test$Gate.location <- as.factor(ds_test$Gate.location)\n",
    "ds_test$Food.and.drink <- as.factor(ds_test$Food.and.drink)\n",
    "ds_test$Online.boarding <- as.factor(ds_test$Online.boarding)\n",
    "ds_test$Seat.comfort <- as.factor(ds_test$Seat.comfort)\n",
    "ds_test$Leg.room.service <- as.factor(ds_test$Leg.room.service)\n",
    "ds_test$Inflight.entertainment <- as.factor(ds_test$Inflight.entertainment)\n",
    "ds_test$On.board.service <- as.factor(ds_test$On.board.service)\n",
    "ds_test$Checkin.service <- as.factor(ds_test$Checkin.service)\n",
    "ds_test$Inflight.service <- as.factor(ds_test$Inflight.service)\n",
    "ds_test$Cleanliness <- as.factor(ds_test$Cleanliness)\n",
    "ds_test$Baggage.handling <- as.factor(ds_test$Baggage.handling)\n",
    "  \n",
    "str(ds_test)"
   ]
  },
  {
   "cell_type": "code",
   "execution_count": 37,
   "id": "4de5459e",
   "metadata": {},
   "outputs": [
    {
     "data": {
      "text/plain": [
       "    Gender                Customer.Type        Age       \n",
       " Female:13172   disloyal Customer: 4799   Min.   : 7.00  \n",
       " Male  :12804   Loyal Customer   :21177   1st Qu.:27.00  \n",
       "                                          Median :40.00  \n",
       "                                          Mean   :39.62  \n",
       "                                          3rd Qu.:51.00  \n",
       "                                          Max.   :85.00  \n",
       "         Type.of.Travel       Class       Flight.Distance Inflight.wifi.service\n",
       " Business travel:18038   Business:12495   Min.   :  31    0: 813               \n",
       " Personal Travel: 7938   Eco     :11564   1st Qu.: 414    1:4488               \n",
       "                         Eco Plus: 1917   Median : 849    2:6490               \n",
       "                                          Mean   :1194    3:6317               \n",
       "                                          3rd Qu.:1744    4:4981               \n",
       "                                          Max.   :4983    5:2887               \n",
       " Departure.Arrival.time.convenient Ease.of.Online.booking Gate.location\n",
       " 0:1381                            0:1195                 1:4429       \n",
       " 1:3911                            1:4361                 2:4837       \n",
       " 2:4343                            2:6030                 3:7140       \n",
       " 3:4412                            3:5944                 4:6040       \n",
       " 4:6334                            4:4873                 5:3530       \n",
       " 5:5595                            5:3573                              \n",
       " Food.and.drink Online.boarding Seat.comfort Inflight.entertainment\n",
       " 0:  25         0: 652          1:3033       0:   4                \n",
       " 1:3214         1:2569          2:3632       1:3197                \n",
       " 2:5395         2:4429          3:4632       2:4331                \n",
       " 3:5494         3:5313          4:7991       3:4745                \n",
       " 4:6204         4:7706          5:6688       4:7368                \n",
       " 5:5644         5:5307                       5:6331                \n",
       " On.board.service Leg.room.service Baggage.handling Checkin.service\n",
       " 0:   2           0: 126           1:1791           1:3218         \n",
       " 1:2915           1:2542           2:2841           2:3209         \n",
       " 2:3670           2:5015           3:5219           3:7007         \n",
       " 3:5709           3:4958           4:9378           4:7278         \n",
       " 4:7836           4:7097           5:6747           5:5264         \n",
       " 5:5844           5:6238                                           \n",
       " Inflight.service Cleanliness Departure.Delay.in.Minutes\n",
       " 0:   2           0:   2      Min.   :   0.00           \n",
       " 1:1778           1:3411      1st Qu.:   0.00           \n",
       " 2:2851           2:3981      Median :   0.00           \n",
       " 3:5017           3:6065      Mean   :  14.31           \n",
       " 4:9378           4:6790      3rd Qu.:  12.00           \n",
       " 5:6950           5:5727      Max.   :1128.00           \n",
       " Arrival.Delay.in.Minutes satisfaction\n",
       " Min.   :   0.00          0:14573     \n",
       " 1st Qu.:   0.00          1:11403     \n",
       " Median :   0.00                      \n",
       " Mean   :  14.69                      \n",
       " 3rd Qu.:  13.00                      \n",
       " Max.   :1115.00                      "
      ]
     },
     "metadata": {},
     "output_type": "display_data"
    }
   ],
   "source": [
    "summary(ds_test)"
   ]
  },
  {
   "cell_type": "code",
   "execution_count": 38,
   "id": "52a84f53",
   "metadata": {},
   "outputs": [
    {
     "name": "stderr",
     "output_type": "stream",
     "text": [
      "Warning message in predict.lm(object, newdata, se.fit, scale = 1, type = if (type == :\n",
      "\"prediction from rank-deficient fit; attr(*, \"non-estim\") has doubtful cases\"\n"
     ]
    },
    {
     "data": {
      "text/plain": [
       "   Min. 1st Qu.  Median    Mean 3rd Qu.    Max. \n",
       "0.00000 0.01021 0.19479 0.43881 0.97520 1.00000 "
      ]
     },
     "metadata": {},
     "output_type": "display_data"
    }
   ],
   "source": [
    "pred <- predict(model1, type = \"response\", newdata = ds_test)\n",
    "summary(pred)"
   ]
  },
  {
   "cell_type": "code",
   "execution_count": 39,
   "id": "0a945d2c",
   "metadata": {},
   "outputs": [
    {
     "data": {
      "text/plain": [
       "[1] Confusion Matrix"
      ]
     },
     "metadata": {},
     "output_type": "display_data"
    },
    {
     "data": {
      "text/plain": [
       "                         \n",
       "                          FALSE  TRUE\n",
       "  neutral or dissatisfied 14162   411\n",
       "  satisfied                1540  9863"
      ]
     },
     "metadata": {},
     "output_type": "display_data"
    }
   ],
   "source": [
    "# Confusion matrix\n",
    "confusion_matrix <- table(ds_test$satisfaction, pred>0.7)\n",
    "row.names(confusion_matrix)<- c(\"neutral or dissatisfied\", \"satisfied\")\n",
    "noquote(\"Confusion Matrix\")\n",
    "confusion_matrix"
   ]
  },
  {
   "cell_type": "code",
   "execution_count": 40,
   "id": "c9644e84",
   "metadata": {},
   "outputs": [
    {
     "data": {
      "text/plain": [
       "[1] Accuracy"
      ]
     },
     "metadata": {},
     "output_type": "display_data"
    },
    {
     "data": {
      "text/html": [
       "0.924892208192177"
      ],
      "text/latex": [
       "0.924892208192177"
      ],
      "text/markdown": [
       "0.924892208192177"
      ],
      "text/plain": [
       "[1] 0.9248922"
      ]
     },
     "metadata": {},
     "output_type": "display_data"
    },
    {
     "data": {
      "text/plain": [
       "[1] Misclassification"
      ]
     },
     "metadata": {},
     "output_type": "display_data"
    },
    {
     "data": {
      "text/html": [
       "0.0751077918078226"
      ],
      "text/latex": [
       "0.0751077918078226"
      ],
      "text/markdown": [
       "0.0751077918078226"
      ],
      "text/plain": [
       "[1] 0.07510779"
      ]
     },
     "metadata": {},
     "output_type": "display_data"
    },
    {
     "data": {
      "text/plain": [
       "[1] Precision"
      ]
     },
     "metadata": {},
     "output_type": "display_data"
    },
    {
     "data": {
      "text/html": [
       "0.864947820748926"
      ],
      "text/latex": [
       "0.864947820748926"
      ],
      "text/markdown": [
       "0.864947820748926"
      ],
      "text/plain": [
       "[1] 0.8649478"
      ]
     },
     "metadata": {},
     "output_type": "display_data"
    },
    {
     "data": {
      "text/plain": [
       "[1] Sensitivity"
      ]
     },
     "metadata": {},
     "output_type": "display_data"
    },
    {
     "data": {
      "text/html": [
       "0.959996106677049"
      ],
      "text/latex": [
       "0.959996106677049"
      ],
      "text/markdown": [
       "0.959996106677049"
      ],
      "text/plain": [
       "[1] 0.9599961"
      ]
     },
     "metadata": {},
     "output_type": "display_data"
    },
    {
     "data": {
      "text/plain": [
       "[1] Specificity"
      ]
     },
     "metadata": {},
     "output_type": "display_data"
    },
    {
     "data": {
      "text/html": [
       "0.901923321869825"
      ],
      "text/latex": [
       "0.901923321869825"
      ],
      "text/markdown": [
       "0.901923321869825"
      ],
      "text/plain": [
       "[1] 0.9019233"
      ]
     },
     "metadata": {},
     "output_type": "display_data"
    }
   ],
   "source": [
    "tp <- 9863\n",
    "fp <- 1540\n",
    "fn <- 411\n",
    "tn <- 14162\n",
    "noquote(\"Accuracy\")\n",
    "(tp+tn)/(tp+tn+fp+fn)\n",
    "noquote(\"Misclassification\")\n",
    "(fp+fn)/(tp+tn+fp+fn)\n",
    "noquote(\"Precision\")\n",
    "tp/(tp+fp)\n",
    "noquote(\"Sensitivity\")\n",
    "tp/(tp+fn)\n",
    "noquote(\"Specificity\")\n",
    "tn/(tn+fp)"
   ]
  },
  {
   "cell_type": "markdown",
   "id": "ac98992c",
   "metadata": {},
   "source": [
    "Logistic回归分析表明，对于顾客满意度而言，以下因素具有显著的正显著性。这意味着当这些变量增加时，满足的概率也会增加。\n",
    "- 忠诚的客户\n",
    "- 方便的出发和到达时间\n",
    "- 易于预订\n",
    "- 航班到达延迟的增加降低了满足的概率"
   ]
  },
  {
   "cell_type": "code",
   "execution_count": null,
   "id": "b02bd1d3",
   "metadata": {},
   "outputs": [],
   "source": []
  }
 ],
 "metadata": {
  "kernelspec": {
   "display_name": "R",
   "language": "R",
   "name": "ir"
  },
  "language_info": {
   "codemirror_mode": "r",
   "file_extension": ".r",
   "mimetype": "text/x-r-source",
   "name": "R",
   "pygments_lexer": "r",
   "version": "4.3.2"
  }
 },
 "nbformat": 4,
 "nbformat_minor": 5
}
